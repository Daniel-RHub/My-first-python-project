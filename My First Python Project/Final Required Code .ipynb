{
  "cells": [
    {
      "metadata": {},
      "cell_type": "markdown",
      "source": "# Final Project Required Code"
    },
    {
      "metadata": {
        "trusted": true
      },
      "cell_type": "code",
      "source": "def adding_report(answer):\n    total = 0\n    integer = 0\n    items = \"\"\n    daniel_input = \"\"\n    while (daniel_input.istitle() != \"Q\") or (daniel_input.isdigit() == False) or (daniel_input.startswith(\"Q\") == False):\n        daniel_input = input('Enter an integer or \"Q\": ')\n        if (daniel_input.lower() == \"q\") or (daniel_input.lower().startswith(\"q\") == True):\n            items = items + \"\\n\" + daniel_input\n            total = total + int(daniel_input)\n            break\n        else:\n            items = items + \"\\n\" + daniel_input\n            total = total + int(daniel_input)\n            integer = integer + 1\n    if answer == \"A\":\n        print(\"Items\\n\",items)\n        print(\"Total\\n\",total)\n    elif answer == \"T\":\n        print(\"Total\\n\",total)\n            \n \n            \nadding_report(answer)\n        \n        ",
      "execution_count": null,
      "outputs": []
    },
    {
      "metadata": {
        "trusted": true
      },
      "cell_type": "code",
      "source": "def adding_report(choice):\n    total = 0\n    i = 0\n    items = \"\"\n    user_input = \"\"\n    while (user_input.upper() != \"Q\") or (user_input.upper().startswith(\"Q\") != True) or (user_input.isdigit() == False):\n        user_input = input(\"Enter an integer or 'Q': \")\n        if (user_input.lower() == \"q\") or (user_input.lower().startswith(\"q\") == True):\n            break\n        else:\n            items = items + \"\\n\" + user_input\n            total = total + int(user_input)\n            i = i + 1\n            \n    if choice == \"A\":\n        print(\"Items\\n\", items) \n        print(\"Total\\n\", total) \n    elif choice == \"T\": \n        print(\"Total\\n\", total)\n\nadding_report(\"T\")",
      "execution_count": null,
      "outputs": []
    },
    {
      "metadata": {
        "trusted": true
      },
      "cell_type": "code",
      "source": "",
      "execution_count": null,
      "outputs": []
    }
  ],
  "metadata": {
    "kernelspec": {
      "name": "python3",
      "display_name": "Python 3",
      "language": "python"
    },
    "language_info": {
      "mimetype": "text/x-python",
      "nbconvert_exporter": "python",
      "name": "python",
      "pygments_lexer": "ipython3",
      "version": "3.5.4",
      "file_extension": ".py",
      "codemirror_mode": {
        "version": 3,
        "name": "ipython"
      }
    }
  },
  "nbformat": 4,
  "nbformat_minor": 1
}
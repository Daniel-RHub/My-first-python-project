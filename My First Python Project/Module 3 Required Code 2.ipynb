{
  "cells": [
    {
      "metadata": {},
      "cell_type": "markdown",
      "source": "# Required Coding Activity\n\n## Program: Cheese Order\n- Set values for maximum and minimum order variables\n- Set value for price variable\n- get order_amount input and cast to a number"
    },
    {
      "metadata": {
        "trusted": true
      },
      "cell_type": "code",
      "source": "over_max = 100\nunder_min = 0.5\nprice_variable = 27.8\norder_amount = float(input(\"Enter cheese order weight (numeric value): \"))\n\ndef cheese_amount():\n    if float(order_amount) >= 100:\n        print(order_amount,\"is more than currently available stock\")\n    elif 0.5 < float(order_amount) < 100:\n        print(order_amount,\"costs $\",(float(order_amount) * price_variable))\n    elif float(order_amount) <= 0.5:\n        print(order_amount,\"is below minumun order amount\")\n    else:\n        pass\n        \nprint(cheese_amount())",
      "execution_count": 46,
      "outputs": [
        {
          "output_type": "stream",
          "name": "stdout",
          "text": "Enter cheese order weight (numeric value): 10\n10.0 costs $ 278.0\nNone\n"
        }
      ]
    },
    {
      "metadata": {
        "trusted": true
      },
      "cell_type": "code",
      "source": "",
      "execution_count": null,
      "outputs": []
    }
  ],
  "metadata": {
    "kernelspec": {
      "name": "python3",
      "display_name": "Python 3",
      "language": "python"
    },
    "language_info": {
      "mimetype": "text/x-python",
      "nbconvert_exporter": "python",
      "name": "python",
      "pygments_lexer": "ipython3",
      "version": "3.5.4",
      "file_extension": ".py",
      "codemirror_mode": {
        "version": 3,
        "name": "ipython"
      }
    }
  },
  "nbformat": 4,
  "nbformat_minor": 1
}
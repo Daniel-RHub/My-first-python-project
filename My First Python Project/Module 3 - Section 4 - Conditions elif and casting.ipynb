{
  "cells": [
    {
      "metadata": {
        "trusted": true
      },
      "cell_type": "markdown",
      "source": "# Elif\n\n# Example"
    },
    {
      "metadata": {
        "trusted": true
      },
      "cell_type": "code",
      "source": "# Review the code then run testing different unputs\n# WHAT TO WEAR\n\nweather = input(\"Enter weather (sunny, rainy, snowy): \")\n\nif weather.lower() == \"sunny\":\n    print(\"Wear a t-shirt\")\nelif weather.lower() == \"rainy\":\n    print(\"Bring an umbrella and boots\")\nelif weather.lower() == \"snowy\":\n    print(\"Wear a warm coat and hat\")\nelse:\n    print(\"Sorry, not sure what to suggest for\",weather)",
      "execution_count": 2,
      "outputs": [
        {
          "output_type": "stream",
          "name": "stdout",
          "text": "Enter weather (sunny, rainy, snowy): snowy\nWear a warm coat and hat\n"
        }
      ]
    },
    {
      "metadata": {
        "trusted": true
      },
      "cell_type": "code",
      "source": "# Review the code then run testing different inputs\n# SECRET NUMBER GUESS\n\nsecret_num = '3'\n\nguess = input(\"Enter a guess for the secret number (1-5): \")\nif guess.isdigit() == False:\n    print(\"Invalid: guess should only use digits\")\nelif guess == \"1\":\n    print(\"Guess is too low\")\nelif guess == \"2\":\n    print(\"Guess is too low\")\nelif guess == secret_num:\n    print(\"Guess is right\")\nelif guess == \"4\":\n    print(\"Guess is too high\")\nelif guess == \"5\":\n    print(\"Guess is too high\")\nelse:\n    print(guess,\"is not a valid  guess (1-5)\")\n",
      "execution_count": 5,
      "outputs": [
        {
          "output_type": "stream",
          "name": "stdout",
          "text": "Enter a guess for the secret number (1-5): 4\nGuess is too high\n"
        }
      ]
    },
    {
      "metadata": {
        "trusted": true
      },
      "cell_type": "code",
      "source": "clima = input(\"Como esta el clima? (soleado, lluvioso, frio): \")\nif clima.lower() == \"soleado\":\n    print(\"Usa una playera\")\nelif clima.lower() == \"lluvioso\":\n    print(\"No olvides tus botas y paraguas\")\nelif clima.lower() == \"frio\":\n    print(\"Usa un abrigo grueso y gorro\")\nelse:\n    print(\"No usaste la opcion adecuada\",clima)",
      "execution_count": 11,
      "outputs": [
        {
          "output_type": "stream",
          "name": "stdout",
          "text": "Como esta el clima? (soleado, lluvioso, frio): SOLEADO\nUsa una playera\n"
        }
      ]
    },
    {
      "metadata": {},
      "cell_type": "markdown",
      "source": "# Task 1\n- User input size (S, M, L)\n- Reply with price\n- no size = not available\n- optional: add aditonal sizes"
    },
    {
      "metadata": {
        "trusted": true
      },
      "cell_type": "code",
      "source": "shirt_price = input(\"Excuse me, what is the price of this shirt? (Small, Medium, Large, Extra Large): \")\nif shirt_price.title() == \"Small\":\n    print(\"The price is $6 US Dollars\")\nelif shirt_price.title() == \"Medium\":\n    print(\"The price is $7 US Dollars\")\nelif shirt_price.title() == \"Large\":\n    print(\"The price is $8 US Dollars\")\nelif shirt_price.title() == \"Extra Large\":\n    print(\"The price is $ 10 US Dollars\")\nelse:\n    print(\"Sorry, the size is not available\")",
      "execution_count": 16,
      "outputs": [
        {
          "output_type": "stream",
          "name": "stdout",
          "text": "Excuse me, what is the price of this shirt? (Small, Medium, Large, Extra Large): Extra Large\nThe price is $ 10 US Dollars\n"
        }
      ]
    },
    {
      "metadata": {},
      "cell_type": "markdown",
      "source": "# Casting\n\n# Example\n\n# int (), str(), float()"
    },
    {
      "metadata": {
        "trusted": true
      },
      "cell_type": "code",
      "source": "weight1 = '60' # a string\nweight2 = 170 # an integer\n# Add 2 integers\ntotal_weight = int(weight1) + weight2\nprint(total_weight)",
      "execution_count": 18,
      "outputs": [
        {
          "output_type": "stream",
          "text": "230\n",
          "name": "stdout"
        }
      ]
    },
    {
      "metadata": {
        "trusted": true
      },
      "cell_type": "code",
      "source": "weight3 = '10'\nweight4 = 12\nweight34 = int(weight3) + weight4\nprint(weight34)",
      "execution_count": 20,
      "outputs": [
        {
          "output_type": "stream",
          "text": "22\n",
          "name": "stdout"
        }
      ]
    },
    {
      "metadata": {
        "trusted": true
      },
      "cell_type": "code",
      "source": "# Add floats\nage_new_student = input(\"Enter age: \")\ngrad_age = float (age_new_student) + 3.75\nprint(\"Age upon graduation wil be\",grad_age)",
      "execution_count": 23,
      "outputs": [
        {
          "output_type": "stream",
          "name": "stdout",
          "text": "Enter age: 32.5\nAge upon graduation wil be 36.25\n"
        }
      ]
    },
    {
      "metadata": {},
      "cell_type": "markdown",
      "source": "# Task 2"
    },
    {
      "metadata": {
        "trusted": true
      },
      "cell_type": "code",
      "source": "str_num1 = int(\"11\")\nstr_num2 = int(\"15\")\nstr_num3 = 10\n# Add 3 numbers as integers and print the result",
      "execution_count": 37,
      "outputs": []
    },
    {
      "metadata": {
        "trusted": true
      },
      "cell_type": "code",
      "source": "str_sum = str_num1 + str_num2 + str_num3\nprint(str_sum)",
      "execution_count": 38,
      "outputs": [
        {
          "output_type": "stream",
          "text": "36\n",
          "name": "stdout"
        }
      ]
    },
    {
      "metadata": {
        "trusted": true
      },
      "cell_type": "code",
      "source": "str_num4 = \"11\"\nstr_num5 = \"15\"\nstr_num6 = str(10)\n# Add 3 numbers as strings and print the result",
      "execution_count": 42,
      "outputs": []
    },
    {
      "metadata": {
        "trusted": true
      },
      "cell_type": "code",
      "source": "str_sum2 = str_num4 + str_num5 + str_num6\nprint(str_sum2)",
      "execution_count": 44,
      "outputs": [
        {
          "output_type": "stream",
          "text": "111510\n",
          "name": "stdout"
        }
      ]
    },
    {
      "metadata": {
        "trusted": true
      },
      "cell_type": "markdown",
      "source": "# Task 2.1\n## Adding using int casting\n- [ ] Initialize str_integer to a string containing character of an integer (quotes)\n- [ ] Initialize int_number variable with an integer value (no quotes)\n- [ ] Initialize number_total variable and add\n- [ ] Print the sum (number_total)"
    },
    {
      "metadata": {
        "trusted": true
      },
      "cell_type": "code",
      "source": "str_integer = (\"26\")\nint_number = (14)\nnumber_total = int(str_integer) + int_number\nprint(number_total)",
      "execution_count": 1,
      "outputs": [
        {
          "output_type": "stream",
          "text": "40\n",
          "name": "stdout"
        }
      ]
    },
    {
      "metadata": {},
      "cell_type": "markdown",
      "source": "# Concept: Casting Numeric Input\n\n## Casting input( ) strings that represent numbers to integers values\n\n# Example"
    },
    {
      "metadata": {
        "trusted": true
      },
      "cell_type": "code",
      "source": "# Review and run code\nstudent_age = input('Enter student age (integer): ')\nage_next_year = int(student_age) + 1\nprint('Next year student will be',age_next_year)",
      "execution_count": 2,
      "outputs": [
        {
          "output_type": "stream",
          "name": "stdout",
          "text": "enter student age (integer): 3\nNext year student will be 4\n"
        }
      ]
    },
    {
      "metadata": {
        "trusted": true
      },
      "cell_type": "code",
      "source": "# Review and run code\nedad_estudiante = input(\"Cual es tu edad: \")\nedad_proximo_ano = int(edad_estudiante) + 1\nprint(\"El proximo ano el estudiante tendra\",edad_proximo_ano)",
      "execution_count": 7,
      "outputs": [
        {
          "output_type": "stream",
          "name": "stdout",
          "text": "Cual es tu edad: 32\nEl proximo ano el estudiante tendra 33\n"
        }
      ]
    },
    {
      "metadata": {
        "trusted": true
      },
      "cell_type": "code",
      "source": "student_age = int(input('enter student age (integer): '))\n\nage_in_decade = student_age + 10\n\nprint('In a decade the student will be', age_in_decade)",
      "execution_count": 9,
      "outputs": [
        {
          "output_type": "stream",
          "name": "stdout",
          "text": "enter student age (integer): 22\nIn a decade the student will be 32\n"
        }
      ]
    },
    {
      "metadata": {},
      "cell_type": "markdown",
      "source": "# Task 3"
    },
    {
      "metadata": {
        "trusted": true
      },
      "cell_type": "code",
      "source": "marry_age = int(input(\"How many years away is Huiyeon's wedding?: \"))\npossible_marriage = marry_age + 22\nprint(\"She is 22, so she might get married at\",possible_marriage)",
      "execution_count": 15,
      "outputs": [
        {
          "output_type": "stream",
          "name": "stdout",
          "text": "How many years away is Huiyeon's wedding?: 8\nShe is 22, so she might get married at 30\n"
        }
      ]
    },
    {
      "metadata": {
        "trusted": true
      },
      "cell_type": "code",
      "source": "two_integer = ",
      "execution_count": null,
      "outputs": []
    }
  ],
  "metadata": {
    "kernelspec": {
      "name": "python3",
      "display_name": "Python 3",
      "language": "python"
    },
    "language_info": {
      "mimetype": "text/x-python",
      "nbconvert_exporter": "python",
      "name": "python",
      "pygments_lexer": "ipython3",
      "version": "3.5.4",
      "file_extension": ".py",
      "codemirror_mode": {
        "version": 3,
        "name": "ipython"
      }
    }
  },
  "nbformat": 4,
  "nbformat_minor": 1
}
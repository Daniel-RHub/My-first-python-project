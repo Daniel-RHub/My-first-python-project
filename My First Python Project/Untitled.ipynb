{
  "cells": [
    {
      "metadata": {
        "trusted": true
      },
      "cell_type": "code",
      "source": "# Allows charts to appear in the notebook\n%matplotlib inline\n\n# Packages for analysis\nimport pandas as pd\nimport numpy as np\nfrom sklearn import svm\n\n# Packages for visuals\nimport matplotlib.pyplot as plt\nimport seaborn as sns; sns.set(font_scale=1.2)\n\n# Pickle package\nimport pickle",
      "execution_count": null,
      "outputs": []
    },
    {
      "metadata": {
        "trusted": true
      },
      "cell_type": "code",
      "source": "# Read in muffin and cupcake ingredient data\nrecipes = pd.read_csv('muffin.csv')\nrecipes.head()",
      "execution_count": null,
      "outputs": []
    },
    {
      "metadata": {
        "trusted": true
      },
      "cell_type": "code",
      "source": "recipes",
      "execution_count": null,
      "outputs": []
    },
    {
      "metadata": {
        "trusted": true
      },
      "cell_type": "code",
      "source": "# Plot two ingredients\nsns.lmplot('Flour', 'Sugar', data=recipes, hue='Type',\n           palette='Set1', fit_reg=False, scatter_kws={\"s\": 70});",
      "execution_count": null,
      "outputs": []
    },
    {
      "metadata": {
        "trusted": true
      },
      "cell_type": "code",
      "source": "# Specify inputs for the model\n# ingredients = recipes[['Flour', 'Milk', 'Sugar', 'Butter', 'Egg', 'Baking Powder', 'Vanilla', 'Salt']].as_matrix()\ningredients = recipes[['Flour','Sugar']].as_matrix()\ntype_label = np.where(recipes['Type']=='Muffin', 0, 1)\n\n# Feature names\nrecipe_features = recipes.columns.values[1:].tolist()\nrecipe_features",
      "execution_count": null,
      "outputs": []
    },
    {
      "metadata": {
        "trusted": true
      },
      "cell_type": "code",
      "source": "%matplotlib inline\n\nimport numpy as np\nimport matplotlib.pyplot as plt\npi = np.pi\nx = np.linspace(-4*pi,4*pi,1000)\n\nplt.plot(x,np.sin(x)/x)\nplt.show()",
      "execution_count": null,
      "outputs": []
    },
    {
      "metadata": {
        "trusted": true
      },
      "cell_type": "code",
      "source": "",
      "execution_count": null,
      "outputs": []
    }
  ],
  "metadata": {
    "kernelspec": {
      "name": "python3",
      "display_name": "Python 3",
      "language": "python"
    },
    "language_info": {
      "mimetype": "text/x-python",
      "nbconvert_exporter": "python",
      "name": "python",
      "pygments_lexer": "ipython3",
      "version": "3.5.4",
      "file_extension": ".py",
      "codemirror_mode": {
        "version": 3,
        "name": "ipython"
      }
    }
  },
  "nbformat": 4,
  "nbformat_minor": 1
}
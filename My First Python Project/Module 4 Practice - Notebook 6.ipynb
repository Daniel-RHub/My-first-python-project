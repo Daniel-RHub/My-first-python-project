{
  "cells": [
    {
      "metadata": {},
      "cell_type": "markdown",
      "source": "# Module 4 Practice - Notebook 6\n## Student will be able to\n- create nested conditional logic in code\n- print format print using escape sequence (****)\n## Task"
    },
    {
      "metadata": {
        "trusted": true
      },
      "cell_type": "code",
      "source": "# [ ] print a string that outputs the following exactly: The new line character is \"\\n\"\nprint('The new line character is \\\"\\\\n\\\"')\n\n# [ ] print output that is exactly (with quotes): \"That's how we escape!\"\nprint('\"That\\'s how we escape!\"')\n\n# [ ] with only 1 print statement and using No Space Characters, output the text commented below  \n\n# 1       one\n# 22      two\n# 333     three\n",
      "execution_count": 11,
      "outputs": [
        {
          "output_type": "stream",
          "text": "The new line character is \"\\n\"\n\"That's how we escape!\"\n",
          "name": "stdout"
        }
      ]
    },
    {
      "metadata": {
        "trusted": true
      },
      "cell_type": "code",
      "source": "# [ ] print a string that outputs the following exactly: The new line character is \"\\n\"\nprint(\"The new line character is \\\"\\\\n\\\"\")\n\n# [ ] print output that is exactly (with quotes): \"That's how we escape!\"\nprint(\"\\\"That\\'s how we escape!\\\"\")\n\n# [ ] with only 1 print statement and using No Space Characters, output the text commented below  \nprint(\"1\\tone\\n22\\ttwo\\n333\\tthree\")\n# 1       one\n# 22      two\n# 333     three",
      "execution_count": 4,
      "outputs": [
        {
          "output_type": "stream",
          "text": "The new line character is \"\\n\"\n\"That's how we escape!\"\n1\tone\n22\ttwo\n333\tthree\n",
          "name": "stdout"
        }
      ]
    },
    {
      "metadata": {
        "trusted": true
      },
      "cell_type": "code",
      "source": "# [ ] print a string that outputs the following exactly: The new line character is \"\\n\"\nprint(\"The new line is \\\"\\\\n\\\"\")\n\n# [ ] print output that is exactly (with quotes): \"That's how we escape!\"\nprint(\"\\\"That\\'s how we escape!\\\"\")\n\n# [ ] with only 1 print statement and using No Space Characters, output the text commented below  \nprint(\"1\\tone\\n22\\ttwo\\n333\\tthree\")\n# 1       one\n# 22      two\n# 333     three",
      "execution_count": 5,
      "outputs": [
        {
          "output_type": "stream",
          "text": "The new line is \"\\n\"\n\"That's how we escape!\"\n1\tone\n22\ttwo\n333\tthree\n",
          "name": "stdout"
        }
      ]
    },
    {
      "metadata": {
        "trusted": true
      },
      "cell_type": "code",
      "source": "print(\"1\\tone\\n22\\ttwo\\n333\\tthree\")",
      "execution_count": 6,
      "outputs": [
        {
          "output_type": "stream",
          "text": "1\tone\n22\ttwo\n333\tthree\n",
          "name": "stdout"
        }
      ]
    },
    {
      "metadata": {
        "trusted": true
      },
      "cell_type": "code",
      "source": "# quote_me takes a string argument and returns a string that will display surrounded with added double quotes if printed\n\ndef quote_me(text):\n    if text.startswith(\"\\\"\"):\n        print(\"\\'\"+text+\"\\'\")\n    else:\n        print(\"\\\"\"+text+\"\\\"\")\ntest = input(\"Enter text: \")\nquote_me(test)\n    ",
      "execution_count": 1,
      "outputs": [
        {
          "output_type": "stream",
          "name": "stdout",
          "text": "Enter text: las dugs\n\"las dugs\"\n"
        }
      ]
    },
    {
      "metadata": {
        "trusted": true
      },
      "cell_type": "code",
      "source": "# quote_me takes a string argument and returns a string that will display surrounded with added double quotes if printed\ndef quote_me(text):\n    if text.startswith(\"\\\"\"):\n        print(\"\\'\"+text+\"\\'\")\n    else:\n        print(\"\\\"\"+text+\"\\\"\")\ntest = input(\"Enter text: \")\nquote_me(test)",
      "execution_count": 9,
      "outputs": [
        {
          "output_type": "stream",
          "name": "stdout",
          "text": "Enter text: \"Google\"\n'\"Google\"'\n"
        }
      ]
    },
    {
      "metadata": {
        "trusted": true
      },
      "cell_type": "code",
      "source": "def girl_friend(name):\n    if name.startswith(\"H\"):\n        print(\"Congratulations! It looks like\",name,\"is my girlfiend.\")\n    else:\n        print(\"Sorry, \"+name+\", you are not my girlfriend.\")\ntest = input(\"Enter your name: \")\ngirl_friend(test.title())",
      "execution_count": 16,
      "outputs": [
        {
          "output_type": "stream",
          "name": "stdout",
          "text": "Enter your name: Alan\nSorry, Alan, you are not my girlfriend.\n"
        }
      ]
    },
    {
      "metadata": {
        "trusted": true
      },
      "cell_type": "markdown",
      "source": "## Program: Shirt Order"
    },
    {
      "metadata": {
        "trusted": true
      },
      "cell_type": "code",
      "source": "# First get input for color and size\n# White has sizes L, M\n# Blue has sizes M, S\n# print avaiable or unavailable, then\n# print the order confirmation of color and size\n\nshirt_color = input(\"Which color would you like?: \")\nshirt_size = input(\"What size are you looking for?: \")\nif shirt_color.startswith(\"w\"):\n    if shirt_size.title().startswith(\"L\") or shirt_size.title().startswith(\"M\"):\n        print(\"Available!\\tYour order is a \"+shirt_size+\", \"+shirt_color+\" shirt.\")\n    else:\n        print(\"Sorry, we don't have a \"+shirt_color+\" shirt on\",shirt_size)\nelif shirt_color.startswith(\"b\"):\n    if shirt_size.title().startswith(\"M\") or shirt_size.title().startswith(\"S\"):\n        print(\"Available!\\tYour order is a \"+shirt_size+\", \"+shirt_color,\"shirt.\")\n    else:\n        print(\"Sorry, we don't have a \"+shirt_color,\"shirt on\",shirt_size)\nelse:\n    print(\"Sorry, we don't have the color and size you are looking for.\")\n    ",
      "execution_count": 7,
      "outputs": [
        {
          "output_type": "stream",
          "name": "stdout",
          "text": "Which color would you like?: black\nWhat size are you looking for?: medium\nAvailable!\tYour order is a medium, black shirt.\n"
        }
      ]
    },
    {
      "metadata": {
        "trusted": true
      },
      "cell_type": "code",
      "source": "# First get input for color and model\n# print avaiable or unavailable, then\n# print the order confirmation of color and size\n\ncar_model = input(\"Which car are you looking for? \")\ncar_color = input(\"Which color would you like? \")\nif car_model.title() == \"Lobo\":\n    if car_color.title() == \"Black\" or car_color.title() == \"Blue\" or car_color.title() == \"White\" or car_color.title() == \"Gray\":\n        print(\"We currently have a\",car_color,car_model,\"just for you!\")\n    else:\n        print(\"I'm sorry, we don't have a\",car_model,\"with your desired color.\")\nelif car_model.title() == \"Expedition\":\n    if car_color.title() == \"Black\" or car_color.title() == \"Red\" or car_color.title() == \"White\" or car_color.title() == \"Gray\" or car_color.title() == \"Green\" or car_color.title() == \"Blue\":\n        print(\"We currently have a\",car_color,car_model,\"just for you!\")\n    else:\n        print(\"I'm sorry, we don't have a\",car_color,car_model,\"at the moment.\")\nelse:\n    print(\"Sorry, we currently run out of the model you are looking for.\")\n",
      "execution_count": 13,
      "outputs": [
        {
          "output_type": "stream",
          "name": "stdout",
          "text": "Which car are you looking for? Expedition\nWhich color would you like? brown\nI'm sorry, we don't have a brown Expedition at the moment.\n"
        }
      ]
    },
    {
      "metadata": {
        "trusted": true
      },
      "cell_type": "markdown",
      "source": "## Program: Ticket_check, find out if a seat is available"
    },
    {
      "metadata": {
        "trusted": true
      },
      "cell_type": "code",
      "source": "def ticket_check(section,seats):\n    if section.title().startswith(\"G\"):\n        if int(seats)>0 and int(seats)<=10:\n            return True\n        else:\n            return False\n    elif section.title().startswith(\"F\"):\n        if int(seats)>0 and int(seats)<=4:\n            return True\n        else:\n            return False\n    else:\n        return False\nticket_check(\"g\",8)\n    ",
      "execution_count": 6,
      "outputs": [
        {
          "output_type": "execute_result",
          "execution_count": 6,
          "data": {
            "text/plain": "True"
          },
          "metadata": {}
        }
      ]
    },
    {
      "metadata": {
        "trusted": true
      },
      "cell_type": "code",
      "source": "def seat_check(section,seats):\n    if section.title().startswith(\"A\"):\n        if int(seats)>0 and int(seats)<= 20:\n            return True\n        else:\n            return False\n    elif section.title().startswith(\"B\"):\n        if int(seats)>0 and int(seats)<=20:\n            return True\n        else:\n            return False\n    elif section.title().startswith(\"C\"):\n        if int(seats)>0 and int(seats)<=30:\n            return True\n        else:\n            return False\n    else:\n        return False\nseat_check(\"c\",15)",
      "execution_count": 8,
      "outputs": [
        {
          "output_type": "execute_result",
          "execution_count": 8,
          "data": {
            "text/plain": "True"
          },
          "metadata": {}
        }
      ]
    },
    {
      "metadata": {},
      "cell_type": "markdown",
      "source": "## Program: str_analysis( ) Function"
    },
    {
      "metadata": {
        "trusted": true
      },
      "cell_type": "code",
      "source": "# Create the str_analysis() function that takes a string argument. In the body of the function:\ndef str_analysis(str_test):\n    if str_test.isdigit():\n        if int(str_test)>99:\n            print(\"Big number!\")\n        else:\n            print(\"Small number!\")\n    elif str_test.isalpha():\n        print(\"This are alphabet letters, not a number.\")\n    else:\n        print(\"It's not alphabets nor numbers.\")\ntest = input(\"Test the text: \")\nstr_analysis(test)",
      "execution_count": 13,
      "outputs": [
        {
          "output_type": "stream",
          "name": "stdout",
          "text": "Test the text: diez y seis\nIt's not alphabets nor numbers.\n"
        }
      ]
    },
    {
      "metadata": {
        "trusted": true
      },
      "cell_type": "code",
      "source": "",
      "execution_count": null,
      "outputs": []
    }
  ],
  "metadata": {
    "kernelspec": {
      "name": "python3",
      "display_name": "Python 3",
      "language": "python"
    },
    "language_info": {
      "mimetype": "text/x-python",
      "nbconvert_exporter": "python",
      "name": "python",
      "file_extension": ".py",
      "version": "3.5.4",
      "pygments_lexer": "ipython3",
      "codemirror_mode": {
        "version": 3,
        "name": "ipython"
      }
    }
  },
  "nbformat": 4,
  "nbformat_minor": 1
}
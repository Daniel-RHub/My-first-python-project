{
  "cells": [
    {
      "metadata": {},
      "cell_type": "markdown",
      "source": "# Concep: Comparison\n- >\n- <\n- >=\n- <=\n- ==\n- Assign = vs compare ==\n- !="
    },
    {
      "metadata": {},
      "cell_type": "markdown",
      "source": "# Hansaem"
    },
    {
      "metadata": {
        "trusted": true
      },
      "cell_type": "code",
      "source": "girlfriend_name = input(\"If your name starts 'H', there is a high chance you are my girlfriend. Please type your name and find out: \")\nif girlfriend_name.startswith('H'):\n    print(girlfriend_name+\". Yes! You are my girlfriend!\")\nelse:\n    print(girlfriend_name+\". No, better luck next time, hA\")",
      "execution_count": 12,
      "outputs": [
        {
          "output_type": "stream",
          "name": "stdout",
          "text": "If your name starts 'H', there is a high chance you are my girlfriend. Please type your name and find out: Bhuvi\nBhuvi. No, better luck next time, hA\n"
        }
      ]
    },
    {
      "metadata": {
        "trusted": true
      },
      "cell_type": "code",
      "source": "3>5",
      "execution_count": 15,
      "outputs": [
        {
          "output_type": "execute_result",
          "execution_count": 15,
          "data": {
            "text/plain": "False"
          },
          "metadata": {}
        }
      ]
    },
    {
      "metadata": {
        "trusted": true
      },
      "cell_type": "code",
      "source": "3<5",
      "execution_count": 16,
      "outputs": [
        {
          "output_type": "execute_result",
          "execution_count": 16,
          "data": {
            "text/plain": "True"
          },
          "metadata": {}
        }
      ]
    },
    {
      "metadata": {},
      "cell_type": "markdown",
      "source": "# Assign vs Compare"
    },
    {
      "metadata": {
        "trusted": true
      },
      "cell_type": "code",
      "source": "# Assign points equal to 3\npoints = 9\n\n#Test if points is equal to \npoints == 9\n",
      "execution_count": 21,
      "outputs": [
        {
          "output_type": "execute_result",
          "execution_count": 21,
          "data": {
            "text/plain": "True"
          },
          "metadata": {}
        }
      ]
    },
    {
      "metadata": {},
      "cell_type": "markdown",
      "source": "# Not equal !="
    },
    {
      "metadata": {
        "trusted": true
      },
      "cell_type": "code",
      "source": "x = 3\nprint(\"x not equal 9 is\", x != 9)\nprint(\"x equal 3 is\", x == 3)",
      "execution_count": 19,
      "outputs": [
        {
          "output_type": "stream",
          "text": "x not equal 9 is True\nx equal 3 is True\n",
          "name": "stdout"
        }
      ]
    },
    {
      "metadata": {},
      "cell_type": "markdown",
      "source": "# Task 1"
    },
    {
      "metadata": {
        "trusted": true
      },
      "cell_type": "code",
      "source": "x = 9 + 4\n# Create a test to print () True or False for x is equal to 13\nprint(\"x is equal to 13\",x == 13)\n\n# Create a test to print True or False for 3 + 3 is greater than 2 + 4\nprint(3 + 3 > 2 + 4)\n",
      "execution_count": 26,
      "outputs": [
        {
          "output_type": "stream",
          "text": "x is equal to 13 True\nFalse\n",
          "name": "stdout"
        }
      ]
    },
    {
      "metadata": {},
      "cell_type": "markdown",
      "source": "# Comparison Operators in Conditionals"
    },
    {
      "metadata": {
        "trusted": true
      },
      "cell_type": "code",
      "source": "# Examples\n# Review Code and run the cell\nx = 26\nif x > 25:\n    print(\"x is already bigger than 25\")\nelse:\n    print(\"x was\", x)\n    x=28\n    print(\"now x is\", x)",
      "execution_count": 35,
      "outputs": [
        {
          "output_type": "stream",
          "text": "x is already bigger than 25\n",
          "name": "stdout"
        }
      ]
    },
    {
      "metadata": {
        "trusted": true
      },
      "cell_type": "code",
      "source": "# Review code and run cell\nx = 18\nif x + 18 == x + x:\n    print(\"Pass: x + 18 is equal to\", x + x)\nelse:\n    print(\"Fail: x + 18 is not equal to\", x + x)",
      "execution_count": 28,
      "outputs": [
        {
          "output_type": "stream",
          "text": "Pass: x + 18 is equal to 36\n",
          "name": "stdout"
        }
      ]
    },
    {
      "metadata": {
        "trusted": true
      },
      "cell_type": "code",
      "source": "# Review and run the cell. \"!\" means not\nx = 21\ntest_value = 21\nif x != test_value:\n    print('x is not',test_value)\nelse:\n    print('x is',test_value)",
      "execution_count": 4,
      "outputs": [
        {
          "output_type": "stream",
          "text": "x is 21\n",
          "name": "stdout"
        }
      ]
    },
    {
      "metadata": {
        "trusted": true
      },
      "cell_type": "code",
      "source": "# Review code and run cell\n# Don't Assign (x = 2) when you mean to compare (x == 2)\nx = 2\n\nif x = 2:\n    print(\"'==' test for, is equal to\")\nelse:\n    pass",
      "execution_count": 6,
      "outputs": [
        {
          "output_type": "error",
          "ename": "SyntaxError",
          "evalue": "invalid syntax (<ipython-input-6-cf1ead2ae484>, line 5)",
          "traceback": [
            "\u001b[0;36m  File \u001b[0;32m\"<ipython-input-6-cf1ead2ae484>\"\u001b[0;36m, line \u001b[0;32m5\u001b[0m\n\u001b[0;31m    if x = 2:\u001b[0m\n\u001b[0m         ^\u001b[0m\n\u001b[0;31mSyntaxError\u001b[0m\u001b[0;31m:\u001b[0m invalid syntax\n"
          ]
        }
      ]
    },
    {
      "metadata": {
        "trusted": true
      },
      "cell_type": "code",
      "source": "y = 21\nif y > 20:\n    print(\"y is already greater than 20\")\nelse:\n    print(\"y was\",y)\n    y = 25\n    print(\"now y is\",y)",
      "execution_count": 9,
      "outputs": [
        {
          "output_type": "stream",
          "text": "y is already greater than 20\n",
          "name": "stdout"
        }
      ]
    },
    {
      "metadata": {
        "trusted": true
      },
      "cell_type": "code",
      "source": "# Game Board, playing position, trap position. IF we are NOT in the trap --> keep playing.\nposition = 18\ntrap_value = 18\nif position != trap_value:\n    print(\".... keep playing!\")\nelse:\n    print('Position is',trap_value,\"......GAME OVER!\")",
      "execution_count": 14,
      "outputs": [
        {
          "output_type": "stream",
          "text": "Position is 18 ......GAME OVER!\n",
          "name": "stdout"
        }
      ]
    },
    {
      "metadata": {
        "trusted": true
      },
      "cell_type": "code",
      "source": "# \nz = 2 \nif z == 2:\n    print(\"== test for, 'is equal to'\")\nelse:\n    pass",
      "execution_count": 15,
      "outputs": [
        {
          "output_type": "stream",
          "text": "== test for, 'is equal to'\n",
          "name": "stdout"
        }
      ]
    },
    {
      "metadata": {},
      "cell_type": "markdown",
      "source": "# Task 2\n- Evaluationg a comparison operator in if"
    },
    {
      "metadata": {
        "trusted": true
      },
      "cell_type": "code",
      "source": "# Create an if/else statement that tests if y is greater than or equal x + x\n# print output: \"y greater than or equal x + x is\" True/False ... or a similar output\nx = 9\ny = x + 8\nif y >= x + x:\n    print('y greater than or equal to x + x is ',y >= x +x)\nelse:\n    print('y less than or equal to x + x is ',y <= x + x)",
      "execution_count": 38,
      "outputs": [
        {
          "output_type": "stream",
          "text": "y less than or equal to x + x is  True\n",
          "name": "stdout"
        }
      ]
    },
    {
      "metadata": {
        "trusted": true
      },
      "cell_type": "code",
      "source": "x = 4\ny = x + 8\ny >= x + x",
      "execution_count": 26,
      "outputs": [
        {
          "output_type": "execute_result",
          "execution_count": 26,
          "data": {
            "text/plain": "True"
          },
          "metadata": {}
        }
      ]
    },
    {
      "metadata": {
        "trusted": true
      },
      "cell_type": "code",
      "source": "      assignment = 25\n\nif assignment = 25:\n    print('use \"=\" to assign values')\nelse:\n    pass",
      "execution_count": 28,
      "outputs": [
        {
          "output_type": "error",
          "ename": "SyntaxError",
          "evalue": "invalid syntax (<ipython-input-28-7687e498a0e9>, line 3)",
          "traceback": [
            "\u001b[0;36m  File \u001b[0;32m\"<ipython-input-28-7687e498a0e9>\"\u001b[0;36m, line \u001b[0;32m3\u001b[0m\n\u001b[0;31m    if assignment = 25:\u001b[0m\n\u001b[0m                  ^\u001b[0m\n\u001b[0;31mSyntaxError\u001b[0m\u001b[0;31m:\u001b[0m invalid syntax\n"
          ]
        }
      ]
    },
    {
      "metadata": {
        "trusted": true
      },
      "cell_type": "code",
      "source": "     id = 3556\n\nif id > 2999:\n    print(id, \"is a new student\")\nelse:\n    print(id, \"is an existing student\")",
      "execution_count": 31,
      "outputs": [
        {
          "output_type": "stream",
          "text": "3556 is a new student\n",
          "name": "stdout"
        }
      ]
    },
    {
      "metadata": {},
      "cell_type": "markdown",
      "source": "# String Comparison"
    },
    {
      "metadata": {},
      "cell_type": "markdown",
      "source": "# Example"
    },
    {
      "metadata": {
        "trusted": true
      },
      "cell_type": "code",
      "source": "# Revie and run code\n\"hello\" < \"Hello\"",
      "execution_count": 32,
      "outputs": [
        {
          "output_type": "execute_result",
          "execution_count": 32,
          "data": {
            "text/plain": "False"
          },
          "metadata": {}
        }
      ]
    },
    {
      "metadata": {
        "trusted": true
      },
      "cell_type": "code",
      "source": "# Review and run code\n\"Aardvark\" > \"Zebra\"",
      "execution_count": 33,
      "outputs": [
        {
          "output_type": "execute_result",
          "execution_count": 33,
          "data": {
            "text/plain": "False"
          },
          "metadata": {}
        }
      ]
    },
    {
      "metadata": {
        "trusted": true
      },
      "cell_type": "code",
      "source": "#Review and run code\n'student' != 'Student'",
      "execution_count": 34,
      "outputs": [
        {
          "output_type": "execute_result",
          "execution_count": 34,
          "data": {
            "text/plain": "True"
          },
          "metadata": {}
        }
      ]
    },
    {
      "metadata": {
        "trusted": true
      },
      "cell_type": "code",
      "source": "# Review and run code\nprint(\"'student' >= 'Student' is\",'student' >= 'Student')\nprint(\"'student' != 'Student' is\",'student' != 'Student')",
      "execution_count": 35,
      "outputs": [
        {
          "output_type": "stream",
          "text": "'student' >= 'Student' is True\n'student' != 'Student' is True\n",
          "name": "stdout"
        }
      ]
    },
    {
      "metadata": {
        "trusted": true
      },
      "cell_type": "code",
      "source": "# Review and run code\n\"Hello \"+\"World!\" == \"Hello World!\"",
      "execution_count": 41,
      "outputs": [
        {
          "output_type": "execute_result",
          "execution_count": 41,
          "data": {
            "text/plain": "True"
          },
          "metadata": {}
        }
      ]
    },
    {
      "metadata": {},
      "cell_type": "markdown",
      "source": "# Task 3\n- String Comparisons"
    },
    {
      "metadata": {
        "trusted": true
      },
      "cell_type": "code",
      "source": "msg = \"Hello \"",
      "execution_count": 48,
      "outputs": []
    },
    {
      "metadata": {
        "trusted": true
      },
      "cell_type": "code",
      "source": "msg == \"Hello \"",
      "execution_count": 49,
      "outputs": [
        {
          "output_type": "execute_result",
          "execution_count": 49,
          "data": {
            "text/plain": "True"
          },
          "metadata": {}
        }
      ]
    },
    {
      "metadata": {
        "trusted": true
      },
      "cell_type": "code",
      "source": "greeting = \"Hello \"",
      "execution_count": 50,
      "outputs": []
    },
    {
      "metadata": {
        "trusted": true
      },
      "cell_type": "code",
      "source": "msg",
      "execution_count": 51,
      "outputs": [
        {
          "output_type": "execute_result",
          "execution_count": 51,
          "data": {
            "text/plain": "'Hello '"
          },
          "metadata": {}
        }
      ]
    },
    {
      "metadata": {
        "trusted": true
      },
      "cell_type": "code",
      "source": "greeting",
      "execution_count": 52,
      "outputs": [
        {
          "output_type": "execute_result",
          "execution_count": 52,
          "data": {
            "text/plain": "'Hello '"
          },
          "metadata": {}
        }
      ]
    },
    {
      "metadata": {
        "trusted": true
      },
      "cell_type": "code",
      "source": "saludo = input(\"Say \"+ msg)",
      "execution_count": 53,
      "outputs": [
        {
          "output_type": "stream",
          "name": "stdout",
          "text": "Say Hello World!\n"
        }
      ]
    },
    {
      "metadata": {
        "trusted": true
      },
      "cell_type": "code",
      "source": "msg == greeting",
      "execution_count": 55,
      "outputs": [
        {
          "output_type": "execute_result",
          "execution_count": 55,
          "data": {
            "text/plain": "True"
          },
          "metadata": {}
        }
      ]
    },
    {
      "metadata": {},
      "cell_type": "markdown",
      "source": "# String compare with \"if\""
    },
    {
      "metadata": {},
      "cell_type": "markdown",
      "source": "# Examples"
    },
    {
      "metadata": {
        "trusted": true
      },
      "cell_type": "code",
      "source": "# Review and run code\nmsg = \"Save The Notebook\"\nif msg.lower() == \"save the notebook\":\n    print(\"message as expected\")\nelse:\n    print(\"message not as expected\")",
      "execution_count": 59,
      "outputs": [
        {
          "output_type": "stream",
          "text": "message as expected\n",
          "name": "stdout"
        }
      ]
    },
    {
      "metadata": {
        "trusted": true
      },
      "cell_type": "code",
      "source": "# Review and run code\nmsg = \"Save the notebook\"\nprediction = \"save the notebook\"\nif msg.lower() == prediction.lower():\n    print(\"message as expected\")\nelse:\n    print(\"message not as expected\")",
      "execution_count": 60,
      "outputs": [
        {
          "output_type": "stream",
          "text": "message as expected\n",
          "name": "stdout"
        }
      ]
    },
    {
      "metadata": {
        "trusted": true
      },
      "cell_type": "code",
      "source": "l_name = input(\"enter last name: \")\nif l_name.lower() <= \"c\":\n    print(\"Welcome to the a, b, c line\")\nelse:\n    print(\"Sorry, this is the a,b,c line\")",
      "execution_count": 65,
      "outputs": [
        {
          "output_type": "stream",
          "name": "stdout",
          "text": "enter last name: Ruiz\nSorry, this is the a,b,c line\n"
        }
      ]
    },
    {
      "metadata": {},
      "cell_type": "markdown",
      "source": "# Task 4"
    },
    {
      "metadata": {
        "trusted": true
      },
      "cell_type": "code",
      "source": "variable = input(\"What is 8 + 13 = \")\nanswer = 21\nif variable != answer:\n    print(\"Wrong answer!\")\nelse:\n    print(\"You got it!\")\n",
      "execution_count": 75,
      "outputs": [
        {
          "output_type": "stream",
          "name": "stdout",
          "text": "What is 8 + 13 = 21\nWrong answer!\n"
        }
      ]
    },
    {
      "metadata": {
        "trusted": true
      },
      "cell_type": "markdown",
      "source": "# Task 4.1"
    },
    {
      "metadata": {
        "trusted": true
      },
      "cell_type": "code",
      "source": "# Get input for a variable, answer, and ask user 'What is 8 + 13?: '\n# Print Message for correct answer \"21\" or incorrect anser using if/else\n\nvariablle = 21\ninput(\"What is 8 + 13?: \")\nif input == variablle:\n    print(\"Correct!\")\nelse:\n    print(\"Incorrect ):\")",
      "execution_count": 5,
      "outputs": [
        {
          "output_type": "stream",
          "name": "stdout",
          "text": "What is 8 + 13?: 21\nIncorrect ):\n"
        }
      ]
    },
    {
      "metadata": {},
      "cell_type": "markdown",
      "source": "# Task 5\nCall the tf_quiz function with 2 arguments\n- T/F question string\n- Answer key string like \"T\n\nReturn a string: \"Correct\" or \"Incorrect\""
    },
    {
      "metadata": {
        "trusted": true
      },
      "cell_type": "code",
      "source": "# T/F question string\n# Answer Key string like \"T\"\n\n# Answer the following true or false questions:\ndef tf_quiz (question, correct_ans):\n    question = input(\"(T/F) Is purple my favorite color?: \")\n    if question == \"T\":\n        return \"Correct :)\"\n    else:\n        return \"Incorrect ):\"\nquiz_eval = tf_quiz (\"Is purple my favorite color?: \",\"T\")\nprint(\"Answer is\",quiz_eval)\n",
      "execution_count": 37,
      "outputs": [
        {
          "output_type": "stream",
          "name": "stdout",
          "text": "(T/F) Is purple my favorite color?: F\nAnswer is Incorrect ):\n"
        }
      ]
    },
    {
      "metadata": {
        "trusted": true
      },
      "cell_type": "code",
      "source": "      day = \"monday\"\n\nif day.capitalize() == \"Monday\":\n    print(\"Start the week!\")\nelse:\n    pass",
      "execution_count": 20,
      "outputs": [
        {
          "output_type": "stream",
          "text": "Start the week!\n",
          "name": "stdout"
        }
      ]
    },
    {
      "metadata": {
        "trusted": true
      },
      "cell_type": "code",
      "source": "    name = \"Jin Xu\"\n",
      "execution_count": 25,
      "outputs": []
    },
    {
      "metadata": {
        "trusted": true
      },
      "cell_type": "code",
      "source": "\nif type(name) == type(\"Hello\"):\n    print(name,\"is a string entry\")\nelse:\n    print (name, \"is not a string entry\")",
      "execution_count": 26,
      "outputs": [
        {
          "output_type": "stream",
          "text": "Jin Xu is a string entry\n",
          "name": "stdout"
        }
      ]
    },
    {
      "metadata": {
        "trusted": true
      },
      "cell_type": "code",
      "source": "A > a",
      "execution_count": 27,
      "outputs": [
        {
          "output_type": "error",
          "ename": "NameError",
          "evalue": "name 'A' is not defined",
          "traceback": [
            "\u001b[0;31m---------------------------------------------------------------------------\u001b[0m",
            "\u001b[0;31mNameError\u001b[0m                                 Traceback (most recent call last)",
            "\u001b[0;32m<ipython-input-27-c710031c1595>\u001b[0m in \u001b[0;36m<module>\u001b[0;34m()\u001b[0m\n\u001b[0;32m----> 1\u001b[0;31m \u001b[0mA\u001b[0m \u001b[0;34m>\u001b[0m \u001b[0ma\u001b[0m\u001b[0;34m\u001b[0m\u001b[0m\n\u001b[0m",
            "\u001b[0;31mNameError\u001b[0m: name 'A' is not defined"
          ]
        }
      ]
    },
    {
      "metadata": {
        "trusted": true
      },
      "cell_type": "code",
      "source": "\"A\" > \"a\"",
      "execution_count": 28,
      "outputs": [
        {
          "output_type": "execute_result",
          "execution_count": 28,
          "data": {
            "text/plain": "False"
          },
          "metadata": {}
        }
      ]
    },
    {
      "metadata": {
        "trusted": true
      },
      "cell_type": "code",
      "source": "\"A\" > \"B\"",
      "execution_count": 29,
      "outputs": [
        {
          "output_type": "execute_result",
          "execution_count": 29,
          "data": {
            "text/plain": "False"
          },
          "metadata": {}
        }
      ]
    },
    {
      "metadata": {
        "trusted": true
      },
      "cell_type": "code",
      "source": "def fv_quiz (pregunta,respuesta):\n    pregunta = input(\"F/V Are fried beans my favorite food?: \")\n    if pregunta == \"Beans\":\n        return \"Correcta :)\"\n    else:\n        return \"Incorrecta ):\"\nevaluacion = fv_quiz (\"Are fried beans my favorite food?: \",\"Beans\")\nprint(\"La respuesta es\",evaluacion)\n",
      "execution_count": null,
      "outputs": []
    },
    {
      "metadata": {
        "trusted": true
      },
      "cell_type": "code",
      "source": "def hansaem_quiz (q,a):\n    q = input(\"(T/F) Is papaya helpful for happy pooping?: \")\n    if q == \"True\":\n        return \"Correct =*\"\n    else:\n        return \"Incorrect ):\"\ntest = hansaem_quiz (\"A\",\"True\")\nprint(\"The answer is\",test)\n",
      "execution_count": null,
      "outputs": [
        {
          "output_type": "stream",
          "name": "stdout",
          "text": "(T/F) Is papaya helpful for happy pooping?: True\nThe answer is Correct =*\n"
        }
      ]
    },
    {
      "metadata": {
        "trusted": true
      },
      "cell_type": "code",
      "source": "",
      "execution_count": null,
      "outputs": []
    },
    {
      "metadata": {
        "trusted": true
      },
      "cell_type": "code",
      "source": "",
      "execution_count": null,
      "outputs": []
    }
  ],
  "metadata": {
    "kernelspec": {
      "name": "python3",
      "display_name": "Python 3",
      "language": "python"
    },
    "language_info": {
      "mimetype": "text/x-python",
      "nbconvert_exporter": "python",
      "name": "python",
      "file_extension": ".py",
      "version": "3.5.4",
      "pygments_lexer": "ipython3",
      "codemirror_mode": {
        "version": 3,
        "name": "ipython"
      }
    }
  },
  "nbformat": 4,
  "nbformat_minor": 1
}
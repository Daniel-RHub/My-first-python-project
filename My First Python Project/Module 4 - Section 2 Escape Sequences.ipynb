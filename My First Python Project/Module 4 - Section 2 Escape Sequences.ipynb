{
  "cells": [
    {
      "metadata": {},
      "cell_type": "markdown",
      "source": "# Escape Sequence\n\n- Escape sequence starts with backslash (\\)\n- Escape sequences can be used to display characters in python reserved for formatting\n    - \\\\\n    - \\' Single quote\n    - \\\" Double quote\n- Escape sequences are part of special formating characters\n    - \\t Tab\n    - \\n return or newline\n    \n## Example"
    },
    {
      "metadata": {
        "trusted": true
      },
      "cell_type": "code",
      "source": "# Review and run the code using \\n (new line)\nprint(\"Hello World!\\nI am formating print \")",
      "execution_count": 1,
      "outputs": [
        {
          "output_type": "stream",
          "text": "Hello World!\nI am formating print \n",
          "name": "stdout"
        }
      ]
    },
    {
      "metadata": {
        "trusted": true
      },
      "cell_type": "code",
      "source": "# Review and run code using \\t (tab)\nstudent_age = 17\nstudent_name = \"Daniel Ruiz\"\nprint(\"STUDENT NAME\\tAGE\")\nprint(student_name,'\\t'+ str(student_age))",
      "execution_count": 5,
      "outputs": [
        {
          "output_type": "stream",
          "text": "STUDENT NAME\tAGE\nDaniel Ruiz \t17\n",
          "name": "stdout"
        }
      ]
    },
    {
      "metadata": {
        "trusted": true
      },
      "cell_type": "code",
      "source": "# Review and run code\n# Using \\\" and \\' (escaped quotes)\nprint(\"\\\" quotes in quotes\\\"\")\nprint(\"I\\'ve said \\\"save your notebook\\\", so let\\'s do it!\")",
      "execution_count": 7,
      "outputs": [
        {
          "output_type": "stream",
          "text": "\" quotes in quotes\"\nI've said \"save your notebook\", so let's do it!\n",
          "name": "stdout"
        }
      ]
    },
    {
      "metadata": {},
      "cell_type": "markdown",
      "source": "## Task 1"
    },
    {
      "metadata": {
        "trusted": true
      },
      "cell_type": "code",
      "source": "print(\"\\\\\\WARNING///\")",
      "execution_count": 8,
      "outputs": [
        {
          "output_type": "stream",
          "text": "\\\\WARNING///\n",
          "name": "stdout"
        }
      ]
    },
    {
      "metadata": {
        "trusted": true
      },
      "cell_type": "code",
      "source": "print(\"\\\"What\\'s that?\\\"\")",
      "execution_count": 11,
      "outputs": [
        {
          "output_type": "stream",
          "text": "\"What's that?\"\n",
          "name": "stdout"
        }
      ]
    },
    {
      "metadata": {
        "trusted": true
      },
      "cell_type": "code",
      "source": "print(\"ONE\\tTWO\\tTRHEE\\nFOUR\\tFIVE\\tSIX\")",
      "execution_count": 12,
      "outputs": [
        {
          "output_type": "stream",
          "text": "ONE\tTWO\tTRHEE\nFOUR\tFIVE\tSIX\n",
          "name": "stdout"
        }
      ]
    },
    {
      "metadata": {
        "trusted": true
      },
      "cell_type": "markdown",
      "source": "## Task 2\n### Program: pre_word( ) function"
    },
    {
      "metadata": {
        "trusted": true
      },
      "cell_type": "code",
      "source": "your_word = input('My word is: ')",
      "execution_count": 5,
      "outputs": [
        {
          "output_type": "stream",
          "name": "stdout",
          "text": "My word is: pre\n"
        }
      ]
    },
    {
      "metadata": {
        "trusted": true
      },
      "cell_type": "code",
      "source": "print('Enter a word that starts with \"Pre\": ')\nprint()\n\ndef pre_word(your_word):\n    if your_word.startswith(\"Pre\"):\n        return your_word.isalpha() # This checks .isalhpha() and does the return as well\n    else:\n        return False\nprint()\nyour_word = input('My word is: ')\nprint()\nif pre_word(your_word):\n    print('Yay! Your word is a \"Pre\" word.') # You don't need to check \nelse:\n    print('Your word is not a valid \"Pre\" word.')",
      "execution_count": 7,
      "outputs": [
        {
          "output_type": "stream",
          "text": "Enter a word that starts with \"Pre\": \n\n\nMy word is: Prehistoric\n\nYay! Your word is a \"Pre\" word.\n",
          "name": "stdout"
        }
      ]
    },
    {
      "metadata": {
        "trusted": true
      },
      "cell_type": "markdown",
      "source": "## Task 3\n### Review and fix"
    },
    {
      "metadata": {
        "trusted": true
      },
      "cell_type": "code",
      "source": "# [ ] review, run, fix\nprint(\"\\\"Hello\\\"\\n\\\"World!\\\"\")",
      "execution_count": 5,
      "outputs": [
        {
          "output_type": "stream",
          "text": "\"Hello\"\n\"World!\"\n",
          "name": "stdout"
        }
      ]
    },
    {
      "metadata": {
        "trusted": true
      },
      "cell_type": "code",
      "source": "print(\"\\\\\\\\\")",
      "execution_count": 9,
      "outputs": [
        {
          "output_type": "stream",
          "text": "\\\\\n",
          "name": "stdout"
        }
      ]
    },
    {
      "metadata": {
        "trusted": true
      },
      "cell_type": "code",
      "source": "",
      "execution_count": null,
      "outputs": []
    }
  ],
  "metadata": {
    "kernelspec": {
      "name": "python3",
      "display_name": "Python 3",
      "language": "python"
    },
    "language_info": {
      "mimetype": "text/x-python",
      "nbconvert_exporter": "python",
      "name": "python",
      "pygments_lexer": "ipython3",
      "version": "3.5.4",
      "file_extension": ".py",
      "codemirror_mode": {
        "version": 3,
        "name": "ipython"
      }
    }
  },
  "nbformat": 4,
  "nbformat_minor": 1
}
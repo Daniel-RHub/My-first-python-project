{
  "cells": [
    {
      "metadata": {
        "trusted": true
      },
      "cell_type": "code",
      "source": "all_animals = []\nanimal_name = \"\"\nwhile len(all_animals) < 4:\n    animal_name = input(\"Enter animal name or 'Exit':\")\n    if animal_name == \"Exit\":\n        break\n    elif animal_name == \"\":\n        print(\"No animals.\")\n        break\n    elif animal_name not in all_animals:\n        all_animals.append(animal_name)\nprint(all_animals)",
      "execution_count": null,
      "outputs": []
    },
    {
      "metadata": {
        "trusted": true
      },
      "cell_type": "code",
      "source": "all_animals = []\nanimal_name = \"\"\nwhile len(all_animals) < 4:\n    animal_name = input(\"Enter animal name or 'Exit':\")\n    if animal_name == \"Exit\":\n        break\n    elif animal_name == \"\":\n        print(\"No animals.\")\n        break\n    elif animal_name not in all_animals:\n        all_animals.append(animal_name)\nprint(all_animals)",
      "execution_count": null,
      "outputs": []
    },
    {
      "metadata": {
        "trusted": true
      },
      "cell_type": "code",
      "source": "",
      "execution_count": null,
      "outputs": []
    }
  ],
  "metadata": {},
  "nbformat": 4,
  "nbformat_minor": 1
}
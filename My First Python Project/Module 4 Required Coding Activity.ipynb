{
  "cells": [
    {
      "metadata": {},
      "cell_type": "markdown",
      "source": "# Module 4 Required Coding Activity"
    },
    {
      "metadata": {
        "trusted": true
      },
      "cell_type": "code",
      "source": "daniel_input = input(\"Enter word or integer: \")\nwhile daniel_input == \"\":\n    daniel_input = input(\"Enter word or integer: \")\ndef str_analysis():\n    if daniel_input.isdigit() == True:\n        if int(daniel_input) > 99:\n            print(\"That's a big number\")\n        else:\n            print(\"2 digit number\")\n    elif daniel_input.isalpha() == True:\n        print(daniel_input,\"is an alphabetical input.\")\n    else:\n        print(\"This is not an integer nor alphabetical input.\")\nstr_analysis()\n",
      "execution_count": 8,
      "outputs": [
        {
          "output_type": "stream",
          "name": "stdout",
          "text": "Enter word or integer: 1960\nThat's a big number\n"
        }
      ]
    },
    {
      "metadata": {
        "trusted": true
      },
      "cell_type": "code",
      "source": "",
      "execution_count": null,
      "outputs": []
    }
  ],
  "metadata": {
    "kernelspec": {
      "name": "python3",
      "display_name": "Python 3",
      "language": "python"
    },
    "language_info": {
      "mimetype": "text/x-python",
      "nbconvert_exporter": "python",
      "name": "python",
      "pygments_lexer": "ipython3",
      "version": "3.5.4",
      "file_extension": ".py",
      "codemirror_mode": {
        "version": 3,
        "name": "ipython"
      }
    }
  },
  "nbformat": 4,
  "nbformat_minor": 1
}
{
  "cells": [
    {
      "metadata": {
        "trusted": true
      },
      "cell_type": "code",
      "source": "# Allow charts to appear on the notebook\n%matplotlib inline\n\n# Libraries for analysis\nimport pandas as pd\nimport numpy as np\nfrom sklearn import svm\n\n# Libraries for visuals\nimport matplotlib.pyplot as plt\nimport seaborn as sns\n\n# Read Cali Power System Data\ncal_data = pd.read_csv('Cali_Data_Power_CSV.csv')\ncal_data.head(10)\n",
      "execution_count": 3,
      "outputs": [
        {
          "output_type": "stream",
          "text": "/home/nbuser/anaconda3_420/lib/python3.5/site-packages/IPython/core/interactiveshell.py:2728: DtypeWarning: Columns (1,2,3,4,5,6,9,10) have mixed types. Specify dtype option on import or set low_memory=False.\n  interactivity=interactivity, compiler=compiler, result=result)\n",
          "name": "stderr"
        },
        {
          "output_type": "execute_result",
          "execution_count": 3,
          "data": {
            "text/html": "<div>\n<table border=\"1\" class=\"dataframe\">\n  <thead>\n    <tr style=\"text-align: right;\">\n      <th></th>\n      <th>Samples</th>\n      <th>Residential Power</th>\n      <th>Residential Reactive P</th>\n      <th>Commercial Power</th>\n      <th>Commercial Reactive P</th>\n      <th>Industrial Power</th>\n      <th>Industrial Reactive P</th>\n      <th>Industrial Power 2</th>\n      <th>Industrial Reactive P 2</th>\n      <th>Street Light Power</th>\n      <th>Street Light Reactive P</th>\n    </tr>\n  </thead>\n  <tbody>\n    <tr>\n      <th>0</th>\n      <td>1.0</td>\n      <td>3.05E-01</td>\n      <td>3.09E-01</td>\n      <td>2.54E-01</td>\n      <td>4.28E-02</td>\n      <td>8.67E-01</td>\n      <td>4.12E-01</td>\n      <td>9.90E-01</td>\n      <td>2.99E-01</td>\n      <td>9.97E-01</td>\n      <td>9.84E-01</td>\n    </tr>\n    <tr>\n      <th>1</th>\n      <td>2.0</td>\n      <td>3.05E-01</td>\n      <td>3.09E-01</td>\n      <td>2.57E-01</td>\n      <td>4.33E-02</td>\n      <td>8.68E-01</td>\n      <td>4.11E-01</td>\n      <td>9.89E-01</td>\n      <td>2.99E-01</td>\n      <td>9.97E-01</td>\n      <td>9.82E-01</td>\n    </tr>\n    <tr>\n      <th>2</th>\n      <td>3.0</td>\n      <td>3.07E-01</td>\n      <td>3.09E-01</td>\n      <td>2.55E-01</td>\n      <td>4.72E-02</td>\n      <td>8.66E-01</td>\n      <td>4.12E-01</td>\n      <td>9.90E-01</td>\n      <td>2.99E-01</td>\n      <td>9.97E-01</td>\n      <td>9.87E-01</td>\n    </tr>\n    <tr>\n      <th>3</th>\n      <td>4.0</td>\n      <td>3.10E-01</td>\n      <td>3.11E-01</td>\n      <td>2.64E-01</td>\n      <td>5.02E-02</td>\n      <td>8.67E-01</td>\n      <td>4.12E-01</td>\n      <td>9.89E-01</td>\n      <td>2.98E-01</td>\n      <td>9.96E-01</td>\n      <td>9.86E-01</td>\n    </tr>\n    <tr>\n      <th>4</th>\n      <td>5.0</td>\n      <td>3.17E-01</td>\n      <td>3.12E-01</td>\n      <td>2.58E-01</td>\n      <td>4.68E-02</td>\n      <td>8.67E-01</td>\n      <td>4.12E-01</td>\n      <td>9.89E-01</td>\n      <td>2.98E-01</td>\n      <td>9.96E-01</td>\n      <td>9.85E-01</td>\n    </tr>\n    <tr>\n      <th>5</th>\n      <td>6.0</td>\n      <td>3.18E-01</td>\n      <td>3.13E-01</td>\n      <td>2.58E-01</td>\n      <td>4.73E-02</td>\n      <td>8.68E-01</td>\n      <td>4.12E-01</td>\n      <td>9.88E-01</td>\n      <td>2.98E-01</td>\n      <td>9.97E-01</td>\n      <td>9.85E-01</td>\n    </tr>\n    <tr>\n      <th>6</th>\n      <td>7.0</td>\n      <td>3.17E-01</td>\n      <td>3.14E-01</td>\n      <td>2.58E-01</td>\n      <td>4.71E-02</td>\n      <td>8.69E-01</td>\n      <td>4.11E-01</td>\n      <td>9.89E-01</td>\n      <td>2.98E-01</td>\n      <td>9.96E-01</td>\n      <td>9.81E-01</td>\n    </tr>\n    <tr>\n      <th>7</th>\n      <td>8.0</td>\n      <td>3.07E-01</td>\n      <td>3.15E-01</td>\n      <td>2.59E-01</td>\n      <td>4.70E-02</td>\n      <td>8.65E-01</td>\n      <td>4.12E-01</td>\n      <td>9.88E-01</td>\n      <td>2.98E-01</td>\n      <td>9.96E-01</td>\n      <td>9.82E-01</td>\n    </tr>\n    <tr>\n      <th>8</th>\n      <td>9.0</td>\n      <td>3.07E-01</td>\n      <td>3.16E-01</td>\n      <td>2.54E-01</td>\n      <td>4.26E-02</td>\n      <td>8.69E-01</td>\n      <td>4.12E-01</td>\n      <td>9.88E-01</td>\n      <td>2.97E-01</td>\n      <td>9.97E-01</td>\n      <td>9.82E-01</td>\n    </tr>\n    <tr>\n      <th>9</th>\n      <td>10.0</td>\n      <td>3.07E-01</td>\n      <td>3.17E-01</td>\n      <td>2.54E-01</td>\n      <td>4.35E-02</td>\n      <td>8.66E-01</td>\n      <td>4.12E-01</td>\n      <td>9.88E-01</td>\n      <td>2.97E-01</td>\n      <td>9.96E-01</td>\n      <td>9.83E-01</td>\n    </tr>\n  </tbody>\n</table>\n</div>",
            "text/plain": "   Samples Residential Power Residential Reactive P Commercial Power  \\\n0      1.0          3.05E-01               3.09E-01         2.54E-01   \n1      2.0          3.05E-01               3.09E-01         2.57E-01   \n2      3.0          3.07E-01               3.09E-01         2.55E-01   \n3      4.0          3.10E-01               3.11E-01         2.64E-01   \n4      5.0          3.17E-01               3.12E-01         2.58E-01   \n5      6.0          3.18E-01               3.13E-01         2.58E-01   \n6      7.0          3.17E-01               3.14E-01         2.58E-01   \n7      8.0          3.07E-01               3.15E-01         2.59E-01   \n8      9.0          3.07E-01               3.16E-01         2.54E-01   \n9     10.0          3.07E-01               3.17E-01         2.54E-01   \n\n  Commercial Reactive P Industrial Power Industrial Reactive P  \\\n0              4.28E-02         8.67E-01              4.12E-01   \n1              4.33E-02         8.68E-01              4.11E-01   \n2              4.72E-02         8.66E-01              4.12E-01   \n3              5.02E-02         8.67E-01              4.12E-01   \n4              4.68E-02         8.67E-01              4.12E-01   \n5              4.73E-02         8.68E-01              4.12E-01   \n6              4.71E-02         8.69E-01              4.11E-01   \n7              4.70E-02         8.65E-01              4.12E-01   \n8              4.26E-02         8.69E-01              4.12E-01   \n9              4.35E-02         8.66E-01              4.12E-01   \n\n  Industrial Power 2 Industrial Reactive P 2 Street Light Power  \\\n0           9.90E-01                2.99E-01           9.97E-01   \n1           9.89E-01                2.99E-01           9.97E-01   \n2           9.90E-01                2.99E-01           9.97E-01   \n3           9.89E-01                2.98E-01           9.96E-01   \n4           9.89E-01                2.98E-01           9.96E-01   \n5           9.88E-01                2.98E-01           9.97E-01   \n6           9.89E-01                2.98E-01           9.96E-01   \n7           9.88E-01                2.98E-01           9.96E-01   \n8           9.88E-01                2.97E-01           9.97E-01   \n9           9.88E-01                2.97E-01           9.96E-01   \n\n  Street Light Reactive P  \n0                9.84E-01  \n1                9.82E-01  \n2                9.87E-01  \n3                9.86E-01  \n4                9.85E-01  \n5                9.85E-01  \n6                9.81E-01  \n7                9.82E-01  \n8                9.82E-01  \n9                9.83E-01  "
          },
          "metadata": {}
        }
      ]
    },
    {
      "metadata": {
        "trusted": true
      },
      "cell_type": "code",
      "source": "from sklearn.model_selection import train_test_split",
      "execution_count": 6,
      "outputs": []
    },
    {
      "metadata": {
        "trusted": true
      },
      "cell_type": "code",
      "source": "",
      "execution_count": null,
      "outputs": []
    }
  ],
  "metadata": {
    "kernelspec": {
      "name": "python3",
      "display_name": "Python 3",
      "language": "python"
    },
    "language_info": {
      "mimetype": "text/x-python",
      "nbconvert_exporter": "python",
      "name": "python",
      "file_extension": ".py",
      "version": "3.5.4",
      "pygments_lexer": "ipython3",
      "codemirror_mode": {
        "version": 3,
        "name": "ipython"
      }
    }
  },
  "nbformat": 4,
  "nbformat_minor": 1
}
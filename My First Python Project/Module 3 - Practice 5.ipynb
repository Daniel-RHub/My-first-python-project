{
  "cells": [
    {
      "metadata": {},
      "cell_type": "markdown",
      "source": "# Module 3 - Practice 5\n\n## Students will be able to:\n- code more than 2 choices\n- gather numeric input using type string\n- perform substraction, multiplication and division operation code"
    },
    {
      "metadata": {},
      "cell_type": "markdown",
      "source": "## Rainbow Colors"
    },
    {
      "metadata": {
        "trusted": true
      },
      "cell_type": "code",
      "source": "rainbow_color = input(\"What's your favorite rainbow color? Choose favorite color first letter(ROYGBIV): \")\nif rainbow_color.upper() == \"R\":\n    print(\"My favorite color is: Red\")\nelif rainbow_color.upper() == \"O\":\n    print(\"My favorite color is: Orange\")\nelif rainbow_color.upper() == \"Y\":\n    print(\"My favorite color is: Yellow\")\nelif rainbow_color.upper() == \"G\":\n    print(\"My favorite color is: Green\")\nelif rainbow_color.upper() == \"B\":\n    print(\"My favorite color is: Blue\")\nelif rainbow_color.upper() == \"I\":\n    print(\"My favorite color is: Indigo\")\nelif rainbow_color.upper() == \"V\":\n    print(\"My favorite color is: Violet\")\nelse:\n    print(\"No match\")",
      "execution_count": 4,
      "outputs": [
        {
          "output_type": "stream",
          "name": "stdout",
          "text": "What's your favorite rainbow color? Choose favorite color first letter(ROYGBIV): g\nMy favorite color is: Green\n"
        }
      ]
    },
    {
      "metadata": {},
      "cell_type": "markdown",
      "source": "## Rainbow Colors Function"
    },
    {
      "metadata": {
        "trusted": true
      },
      "cell_type": "code",
      "source": "def arcoiris(colores):\n    if colores == \"R\":\n        return \"Red\"\n    elif colores == \"O\":\n        return \"Orange\"\n    elif colores == \"Y\":\n        return \"Yellow\"\n    elif colores == \"G\":\n        return \"Green\"\n    elif colores == \"B\":\n        return \"Blue\"\n    elif colores == \"I\":\n        return \"Indigo\"\n    elif colores == \"V\":\n        return \"Violet\"\n    else:\n        return \"No match\"\ncolores = input(\"Enter your favorite rainbow color: \").upper()\nprint(\"Your color is:\",arcoiris(colores))",
      "execution_count": 2,
      "outputs": [
        {
          "output_type": "stream",
          "name": "stdout",
          "text": "Enter your favorite rainbow color: v\nYour color is: Violet\n"
        }
      ]
    },
    {
      "metadata": {},
      "cell_type": "markdown",
      "source": "## Age"
    },
    {
      "metadata": {
        "trusted": true
      },
      "cell_type": "code",
      "source": "def age_20(age):\n    if \n\n\n",
      "execution_count": 12,
      "outputs": [
        {
          "output_type": "stream",
          "name": "stdout",
          "text": "Enter your age: 6\n"
        },
        {
          "output_type": "error",
          "ename": "NameError",
          "evalue": "name 'age' is not defined",
          "traceback": [
            "\u001b[0;31m---------------------------------------------------------------------------\u001b[0m",
            "\u001b[0;31mNameError\u001b[0m                                 Traceback (most recent call last)",
            "\u001b[0;32m<ipython-input-12-e01413eca240>\u001b[0m in \u001b[0;36m<module>\u001b[0;34m()\u001b[0m\n\u001b[1;32m      9\u001b[0m \u001b[0myour_age\u001b[0m \u001b[0;34m=\u001b[0m \u001b[0minput\u001b[0m\u001b[0;34m(\u001b[0m\u001b[0;34m\"Enter your age: \"\u001b[0m\u001b[0;34m)\u001b[0m\u001b[0;34m\u001b[0m\u001b[0m\n\u001b[1;32m     10\u001b[0m \u001b[0;32mif\u001b[0m \u001b[0myour_age\u001b[0m\u001b[0;34m.\u001b[0m\u001b[0misdigit\u001b[0m\u001b[0;34m(\u001b[0m\u001b[0;34m)\u001b[0m\u001b[0;34m:\u001b[0m\u001b[0;34m\u001b[0m\u001b[0m\n\u001b[0;32m---> 11\u001b[0;31m     \u001b[0mprint\u001b[0m\u001b[0;34m(\u001b[0m\u001b[0mstr\u001b[0m\u001b[0;34m(\u001b[0m\u001b[0mage_20\u001b[0m\u001b[0;34m(\u001b[0m\u001b[0mage\u001b[0m\u001b[0;34m)\u001b[0m\u001b[0;34m)\u001b[0m\u001b[0;34m,\u001b[0m\u001b[0;34m\"years old\"\u001b[0m\u001b[0;34m)\u001b[0m\u001b[0;34m\u001b[0m\u001b[0m\n\u001b[0m\u001b[1;32m     12\u001b[0m \u001b[0;32melse\u001b[0m\u001b[0;34m:\u001b[0m\u001b[0;34m\u001b[0m\u001b[0m\n\u001b[1;32m     13\u001b[0m     \u001b[0mprint\u001b[0m\u001b[0;34m(\u001b[0m\u001b[0;34m\"Error, invalid age\"\u001b[0m\u001b[0;34m)\u001b[0m\u001b[0;34m\u001b[0m\u001b[0m\n",
            "\u001b[0;31mNameError\u001b[0m: name 'age' is not defined"
          ]
        }
      ]
    },
    {
      "metadata": {
        "trusted": true
      },
      "cell_type": "code",
      "source": "def age_10(age):\n    if int(age) >= 10:\n        return int(age)-10\n    else:\n        return 10-int(age)\ntu_edad = input(\"Enter your age: \")\nif tu_edad.isdigit():\n    print(str(age_10(tu_edad)),\"years old, 10 years different from now\")\nelse:\n    print(\"Error, invalid age\")",
      "execution_count": 9,
      "outputs": [
        {
          "output_type": "stream",
          "name": "stdout",
          "text": "Enter your age: 9\n1 years old, 10 years different from now\n"
        }
      ]
    },
    {
      "metadata": {
        "trusted": true
      },
      "cell_type": "code",
      "source": "# A collection of instructions\n# A collection of code\ndef function1():\n    print(\"ahh\")\n    print(\"ahhhh2\")\nprint(\"This is outside the function\")",
      "execution_count": 1,
      "outputs": [
        {
          "output_type": "stream",
          "text": "This is outside the function\n",
          "name": "stdout"
        }
      ]
    },
    {
      "metadata": {
        "trusted": true
      },
      "cell_type": "code",
      "source": "function1()",
      "execution_count": 2,
      "outputs": [
        {
          "output_type": "stream",
          "text": "ahh\nahhhh2\n",
          "name": "stdout"
        }
      ]
    },
    {
      "metadata": {
        "trusted": true
      },
      "cell_type": "code",
      "source": "# a mapping\ndef function2(x):\n    return 2*x",
      "execution_count": 3,
      "outputs": []
    },
    {
      "metadata": {
        "trusted": true
      },
      "cell_type": "code",
      "source": "a = function2(3)",
      "execution_count": 5,
      "outputs": []
    },
    {
      "metadata": {
        "trusted": true
      },
      "cell_type": "code",
      "source": "a\n# Return value",
      "execution_count": 7,
      "outputs": [
        {
          "output_type": "execute_result",
          "execution_count": 7,
          "data": {
            "text/plain": "6"
          },
          "metadata": {}
        }
      ]
    },
    {
      "metadata": {
        "trusted": true
      },
      "cell_type": "code",
      "source": "def function3(x,y):\n    return x + y",
      "execution_count": 8,
      "outputs": []
    },
    {
      "metadata": {
        "trusted": true
      },
      "cell_type": "code",
      "source": "e = function3(5,7)",
      "execution_count": 9,
      "outputs": []
    },
    {
      "metadata": {
        "trusted": true
      },
      "cell_type": "code",
      "source": "e",
      "execution_count": 10,
      "outputs": [
        {
          "output_type": "execute_result",
          "execution_count": 10,
          "data": {
            "text/plain": "12"
          },
          "metadata": {}
        }
      ]
    },
    {
      "metadata": {
        "trusted": true
      },
      "cell_type": "code",
      "source": "def function4(x):\n    print(x)\n    print(\"Still in this function\")\n    return 3*x",
      "execution_count": 11,
      "outputs": []
    },
    {
      "metadata": {
        "trusted": true
      },
      "cell_type": "code",
      "source": "f = function4(4)",
      "execution_count": 12,
      "outputs": [
        {
          "output_type": "stream",
          "text": "4\nStill in this function\n",
          "name": "stdout"
        }
      ]
    },
    {
      "metadata": {
        "trusted": true
      },
      "cell_type": "code",
      "source": "print(f)",
      "execution_count": 13,
      "outputs": [
        {
          "output_type": "stream",
          "text": "12\n",
          "name": "stdout"
        }
      ]
    },
    {
      "metadata": {
        "trusted": true
      },
      "cell_type": "code",
      "source": "def function5(some_argument):\n    print(some_argument)\n    print(\"weeee\")",
      "execution_count": 14,
      "outputs": []
    },
    {
      "metadata": {
        "trusted": true
      },
      "cell_type": "code",
      "source": "f = function5(4)",
      "execution_count": 16,
      "outputs": [
        {
          "output_type": "stream",
          "text": "4\nweeee\n",
          "name": "stdout"
        }
      ]
    },
    {
      "metadata": {
        "trusted": true
      },
      "cell_type": "code",
      "source": "# BMI calculator\nBinod = \"Binod \"\nheight_m1 = 1.78\nweight_kg1 = 72\n\nDaniel = \"Daniel \"\nheight_m2 = 1.79\nweight_kg2 = 84\n\nBhubi = \"Bhubi \"\nheight_m3 = 1.74\nweight_kg3 = 80",
      "execution_count": 32,
      "outputs": []
    },
    {
      "metadata": {
        "trusted": true
      },
      "cell_type": "code",
      "source": "def bmi_calculator(name,height_m,weight_kg):\n    bmi = weight_kg / (height_m ** 2)\n    print(\"BMI: \")\n    print(bmi)\n    if bmi < 25:\n        return name + \"has healthy weight\"\n    else:\n        return name + \"has overweight\"\n    ",
      "execution_count": 33,
      "outputs": []
    },
    {
      "metadata": {
        "trusted": true
      },
      "cell_type": "code",
      "source": "result1 = bmi_calculator(Binod,height_m1,weight_kg1)\nresult2 = bmi_calculator(Daniel,height_m2,weight_kg2)\nresult3 = bmi_calculator(Bhubi,height_m3,weight_kg3)",
      "execution_count": 34,
      "outputs": [
        {
          "output_type": "stream",
          "text": "BMI: \n22.724403484408533\nBMI: \n26.216410224399986\nBMI: \n26.42356982428326\n",
          "name": "stdout"
        }
      ]
    },
    {
      "metadata": {
        "trusted": true
      },
      "cell_type": "code",
      "source": "print(result1)\nprint(result2)\nprint(result3)",
      "execution_count": 35,
      "outputs": [
        {
          "output_type": "stream",
          "text": "Binod has healthy weight\nDaniel has overweight\nBhubi has overweight\n",
          "name": "stdout"
        }
      ]
    },
    {
      "metadata": {
        "trusted": true
      },
      "cell_type": "code",
      "source": "# km = 1.609 * miles\n# cadojo.io/python3\n\ndef convert(miles):\n    return 1.609 * miles",
      "execution_count": 36,
      "outputs": []
    },
    {
      "metadata": {
        "trusted": true
      },
      "cell_type": "code",
      "source": "print(convert(100))",
      "execution_count": 38,
      "outputs": [
        {
          "output_type": "stream",
          "text": "160.9\n",
          "name": "stdout"
        }
      ]
    },
    {
      "metadata": {
        "trusted": true
      },
      "cell_type": "code",
      "source": "def convertk(kilom):\n    return kilom / 1.609",
      "execution_count": 39,
      "outputs": []
    },
    {
      "metadata": {
        "trusted": true
      },
      "cell_type": "code",
      "source": "print(convertk(100))",
      "execution_count": 40,
      "outputs": [
        {
          "output_type": "stream",
          "text": "62.15040397762586\n",
          "name": "stdout"
        }
      ]
    },
    {
      "metadata": {
        "trusted": true
      },
      "cell_type": "code",
      "source": "def add(d,h):\n    return d + h\nadd(12,18)",
      "execution_count": 41,
      "outputs": [
        {
          "output_type": "execute_result",
          "execution_count": 41,
          "data": {
            "text/plain": "30"
          },
          "metadata": {}
        }
      ]
    },
    {
      "metadata": {
        "trusted": true
      },
      "cell_type": "code",
      "source": "def add1(d,h):\n    d = int(input(\"D equals: \"))\n    h = int(input(\"H equals: \"))\n    return d + h",
      "execution_count": 56,
      "outputs": []
    },
    {
      "metadata": {
        "trusted": true
      },
      "cell_type": "code",
      "source": "print(\"Total=\",add1(d,h))",
      "execution_count": 57,
      "outputs": [
        {
          "output_type": "stream",
          "name": "stdout",
          "text": "D equals: 11\nH equals: 12\nTotal= 23\n"
        }
      ]
    },
    {
      "metadata": {
        "trusted": true
      },
      "cell_type": "code",
      "source": "    k = int(input(\"K equals: \"))\n    l = int(input(\"L equals: \"))\n    m = int(input(\"M equals: \"))",
      "execution_count": 69,
      "outputs": [
        {
          "output_type": "stream",
          "name": "stdout",
          "text": "H equals: 2\nI equals: 3\nJ equals: 4\n"
        }
      ]
    },
    {
      "metadata": {
        "trusted": true
      },
      "cell_type": "code",
      "source": "def multi(k,l,m):\n    print(\"Multiply the following numbers: \")\n    k = int(input(\"K equals: \"))\n    l = int(input(\"L equals: \"))\n    m = int(input(\"M equals: \"))\n    return k * l * m\n",
      "execution_count": 72,
      "outputs": []
    },
    {
      "metadata": {
        "trusted": true
      },
      "cell_type": "code",
      "source": "print(\"The answer is...... \",multi(k,l,m))",
      "execution_count": 73,
      "outputs": [
        {
          "output_type": "stream",
          "text": "Multiply the following numbers: \nK equals: 3\nL equals: 6\nM equals: 12\nThe answer is......  216\n",
          "name": "stdout"
        }
      ]
    },
    {
      "metadata": {
        "trusted": true
      },
      "cell_type": "code",
      "source": "def average(u,v):\n    print(\"What's the average of the following numbers: \")\n    u = int(input(\"U equals: \"))\n    v = int(input(\"V equals: \"))\n    return (u + v) / 2",
      "execution_count": 74,
      "outputs": []
    },
    {
      "metadata": {
        "trusted": true
      },
      "cell_type": "code",
      "source": "    u = int(input(\"U equals: \"))\n    v = int(input(\"V equals: \"))",
      "execution_count": 75,
      "outputs": [
        {
          "output_type": "stream",
          "name": "stdout",
          "text": "U equals: 4\nV equals: 5\n"
        }
      ]
    },
    {
      "metadata": {
        "trusted": true
      },
      "cell_type": "code",
      "source": "print(\"The average is:\",average(u,v))",
      "execution_count": 76,
      "outputs": [
        {
          "output_type": "stream",
          "text": "What's the average of the following numbers: \nU equals: 12\nV equals: 18\nThe average is: 15.0\n",
          "name": "stdout"
        }
      ]
    },
    {
      "metadata": {
        "trusted": true
      },
      "cell_type": "code",
      "source": "hnum = int(input(\"Higher Number: \"))\nlnum = int(input(\"Lower Number: \"))",
      "execution_count": 77,
      "outputs": [
        {
          "output_type": "stream",
          "name": "stdout",
          "text": "Higher Number: 89\nLower Number: 18\n"
        }
      ]
    },
    {
      "metadata": {
        "trusted": true
      },
      "cell_type": "code",
      "source": "def divisor(hnum,lnum):\n    print(\"Divide the following numbers: \")\n    hnum = int(input(\"Higher Number: \"))\n    lnum = int(input(\"Lower Number: \"))\n    if hnum > lnum:\n        return int(hnum/lnum)\n    elif hnum < lnum:\n        return \"No Fraction Result\"\n    else:\n        return \"Use valid inputs\"\nprint(\"Hole number division equals:\",divisor(hnum,lnum))\n    \n   ",
      "execution_count": 83,
      "outputs": [
        {
          "output_type": "stream",
          "text": "Divide the following numbers: \nHigher Number: 99\nLower Number: 6\nHole number division equals: 16\n",
          "name": "stdout"
        }
      ]
    },
    {
      "metadata": {
        "trusted": true
      },
      "cell_type": "code",
      "source": "",
      "execution_count": null,
      "outputs": []
    }
  ],
  "metadata": {
    "kernelspec": {
      "name": "python3",
      "display_name": "Python 3",
      "language": "python"
    },
    "language_info": {
      "mimetype": "text/x-python",
      "nbconvert_exporter": "python",
      "name": "python",
      "pygments_lexer": "ipython3",
      "version": "3.5.4",
      "file_extension": ".py",
      "codemirror_mode": {
        "version": 3,
        "name": "ipython"
      }
    }
  },
  "nbformat": 4,
  "nbformat_minor": 1
}
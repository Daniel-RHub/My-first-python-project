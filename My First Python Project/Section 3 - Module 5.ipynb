{
  "cells": [
    {
      "metadata": {},
      "cell_type": "markdown",
      "source": "# Section 3 - Module 5: Math Operations\n## Conditional, type, and mathematics extended \n- Conditionals: elif\n- Casting\n- Basic math operators"
    },
    {
      "metadata": {},
      "cell_type": "markdown",
      "source": "# Concept: Math Operators\n## Math basic operators\n- (+)  Addition\n- (-)  Subtraction\n- (*)  Multiplication\n- (/)  Division\n\n## Example"
    },
    {
      "metadata": {
        "trusted": true
      },
      "cell_type": "code",
      "source": "print(\"3 + 5 =\",3 + 5)\nprint(\"3 + 5 - 9 =\",3 + 5 - 9)\nprint(\"48/9 =\",48/9)\nprint(\"5*5 =\",5*5)\nprint(\"(14-8)*(19/4) =\",(14-8)*(19/4))",
      "execution_count": 1,
      "outputs": [
        {
          "output_type": "stream",
          "text": "3 + 5 = 8\n3 + 5 - 9 = -1\n48/9 = 5.333333333333333\n5*5 = 25\n(14-8)*(19/4) = 28.5\n",
          "name": "stdout"
        }
      ]
    },
    {
      "metadata": {
        "trusted": true
      },
      "cell_type": "code",
      "source": "# Review and run the example\ndef million_maker():\n    make_big = input(\"Enter a non decimal number you whish were bigger: \")\n    return int(make_big)*1000000\nprint(\"Now you have\",million_maker())",
      "execution_count": 38,
      "outputs": [
        {
          "output_type": "stream",
          "name": "stdout",
          "text": "Enter a non decimal number you whish were bigger: 3\nNow you have 3000000\n"
        }
      ]
    },
    {
      "metadata": {},
      "cell_type": "markdown",
      "source": "# Task 1"
    },
    {
      "metadata": {
        "trusted": true
      },
      "cell_type": "code",
      "source": "print(\"43 - 15 =\",43-15)\nprint(\"43 * 15 =\",43*15)\nprint(\"156 / 12 =\",156/12)\nprint(\"21 / 0.5 =\",21/0.5)\nprint(\"111 + 84 - 45 =\",111+84-45)\nprint(\"(21+4) * 4 =\",(21+4)*4)",
      "execution_count": 8,
      "outputs": [
        {
          "output_type": "stream",
          "text": "43 - 15 = 28\n43 * 15 = 645\n156 / 12 = 13.0\n21 / 0.5 = 42.0\n111 + 84 - 45 = 150\n(21+4) * 4 = 100\n",
          "name": "stdout"
        }
      ]
    },
    {
      "metadata": {},
      "cell_type": "markdown",
      "source": "# Task 2\n## Program: Multipliying Calculator Funcion"
    },
    {
      "metadata": {
        "trusted": true
      },
      "cell_type": "code",
      "source": "num1 = input(\"First Number: \")\nnum2 = input(\"Second Number: \")\noperator = input(\"Do you want to Multiply or Divide this numbers? \")\nif operator.title() == \"Multiply\":\n    print(int(num1)*int(num2))\nelif operator.title() == \"Divide\":\n    print(int(num1)/int(num2))\nelse:\n    print(\"Choose the proper function\")   \n\n\n    ",
      "execution_count": 50,
      "outputs": [
        {
          "output_type": "stream",
          "name": "stdout",
          "text": "First Number: 50\nSecond Number: 2\nDo you want to Multiply or Divide this numbers? divide\n25.0\n"
        }
      ]
    },
    {
      "metadata": {},
      "cell_type": "markdown",
      "source": "# Task 3"
    },
    {
      "metadata": {
        "trusted": true
      },
      "cell_type": "code",
      "source": "# Make task 2 better\ndef multiply():\n    String1 = input(\"First String is: \")\n    String2 = input(\"Second String is: \")\n    result = int(String1)*int(String2) \n    return (\"5 * 8 = \"+str(result))\nprint(multiply())\n    ",
      "execution_count": null,
      "outputs": []
    },
    {
      "metadata": {},
      "cell_type": "markdown",
      "source": "# Task 4"
    },
    {
      "metadata": {
        "trusted": true
      },
      "cell_type": "code",
      "source": "# Review, run, fix \nstudent_name = input(\"enter name: \").capitalize()\nif student_name.startswith(\"F\"):\n    print(student_name,\"Congratulations, names starting with 'F' get to go first today!\")\nelif student_name.startswith(\"G\"):\n    print(student_name,\"Congratulations, names starting with 'G' get to go second today!\")\nelse:\n    print(student_name, \"please wait for students with names staring with 'F' and 'G' to go first today.\")",
      "execution_count": 43,
      "outputs": [
        {
          "output_type": "stream",
          "name": "stdout",
          "text": "enter name: daniel\nDaniel please wait for students with names staring with 'F' and 'G' to go first today.\n"
        }
      ]
    },
    {
      "metadata": {
        "trusted": true
      },
      "cell_type": "code",
      "source": "      x = 3\ny = 3\ncalculation = x/y\nprint(calculation)",
      "execution_count": 51,
      "outputs": [
        {
          "output_type": "stream",
          "text": "1.0\n",
          "name": "stdout"
        }
      ]
    },
    {
      "metadata": {
        "trusted": true
      },
      "cell_type": "code",
      "source": "      x = 3\ny = 4\ncalculation = x*y\nprint(calculation)",
      "execution_count": 52,
      "outputs": [
        {
          "output_type": "stream",
          "text": "12\n",
          "name": "stdout"
        }
      ]
    },
    {
      "metadata": {
        "trusted": true
      },
      "cell_type": "code",
      "source": "      calculation = 5 + 15 / 5 + 3 * 2 - 1\nprint(calculation)",
      "execution_count": 53,
      "outputs": [
        {
          "output_type": "stream",
          "text": "13.0\n",
          "name": "stdout"
        }
      ]
    },
    {
      "metadata": {
        "trusted": true
      },
      "cell_type": "code",
      "source": "",
      "execution_count": null,
      "outputs": []
    }
  ],
  "metadata": {
    "kernelspec": {
      "name": "python3",
      "display_name": "Python 3",
      "language": "python"
    },
    "language_info": {
      "mimetype": "text/x-python",
      "nbconvert_exporter": "python",
      "name": "python",
      "pygments_lexer": "ipython3",
      "version": "3.5.4",
      "file_extension": ".py",
      "codemirror_mode": {
        "version": 3,
        "name": "ipython"
      }
    }
  },
  "nbformat": 4,
  "nbformat_minor": 1
}
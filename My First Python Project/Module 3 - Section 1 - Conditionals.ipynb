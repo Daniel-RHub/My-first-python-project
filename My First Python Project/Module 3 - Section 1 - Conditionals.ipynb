{
  "cells": [
    {
      "metadata": {},
      "cell_type": "markdown",
      "source": "# Conditional\n- if\n- else\n- pass"
    },
    {
      "metadata": {
        "trusted": true
      },
      "cell_type": "code",
      "source": "if False: \n    print(\"This prints if statement after 'if' is True\")\n    \nelse:\n    print(\"This prints if statement is not True\")",
      "execution_count": 5,
      "outputs": [
        {
          "output_type": "stream",
          "text": "This prints if statement is not True\n",
          "name": "stdout"
        }
      ]
    },
    {
      "metadata": {
        "trusted": true
      },
      "cell_type": "code",
      "source": "someone_i_know = False\nif someone_i_know:\n    print(\"how have you been?\")\nelse:\n    print(\"nice to meet you\")",
      "execution_count": 6,
      "outputs": [
        {
          "output_type": "stream",
          "text": "nice to meet you\n",
          "name": "stdout"
        }
      ]
    },
    {
      "metadata": {},
      "cell_type": "markdown",
      "source": "# Examples"
    },
    {
      "metadata": {
        "trusted": true
      },
      "cell_type": "code",
      "source": "if False:\n    print(\"True means do something\")\nelse:\n        print(\"Not True menas do something else\")\n",
      "execution_count": 12,
      "outputs": [
        {
          "output_type": "stream",
          "text": "Not True menas do something else\n",
          "name": "stdout"
        }
      ]
    },
    {
      "metadata": {
        "trusted": true
      },
      "cell_type": "code",
      "source": "hot_tea = False\nif hot_tea:\n    print(\"Enjoy some hot tea!\")\nelse:\n    print(\"Enjoy some tea, and perhaps try hot tea next time.\")",
      "execution_count": 14,
      "outputs": [
        {
          "output_type": "stream",
          "text": "Enjoy some tea, and perhaps try hot tea next time.\n",
          "name": "stdout"
        }
      ]
    },
    {
      "metadata": {
        "trusted": true
      },
      "cell_type": "code",
      "source": "i_know = True\nif i_know:\n    print(\"How have you been?\")\nelse:\n    pass",
      "execution_count": 16,
      "outputs": [
        {
          "output_type": "stream",
          "text": "How have you been?\n",
          "name": "stdout"
        }
      ]
    },
    {
      "metadata": {},
      "cell_type": "markdown",
      "source": "# Task 1"
    },
    {
      "metadata": {
        "trusted": true
      },
      "cell_type": "code",
      "source": "# Give Weather Report\nweather_report = False\n\nif weather_report:\n    print(\"It's a sunny beautiful day, enjoy it!\")\nelse:\n    print(\"It's dark and scary, be careful!\")",
      "execution_count": 18,
      "outputs": [
        {
          "output_type": "stream",
          "text": "It's dark and scary, be careful!\n",
          "name": "stdout"
        }
      ]
    },
    {
      "metadata": {
        "trusted": true
      },
      "cell_type": "code",
      "source": "# Give Weather Report\nsunny_day = False\nif sunny_day:\n    print(\"Enjoy a beautiful day at the park\")\nelse:\n    print(\"Don't go out!\")",
      "execution_count": 20,
      "outputs": [
        {
          "output_type": "stream",
          "text": "Don't go out!\n",
          "name": "stdout"
        }
      ]
    },
    {
      "metadata": {},
      "cell_type": "markdown",
      "source": "# Conditional with Boolean String Methods \n- Example"
    },
    {
      "metadata": {
        "trusted": true
      },
      "cell_type": "code",
      "source": "# Review code and run cell\nfavorite_book = input(\"Enter the title of a favorite book: \")\nif favorite_book.istitle():\n    print(favorite_book,\"- nice capitalization in that title!\")\nelse:\n    print(favorite_book, \"- consider capitalization throughout for book titles.\")\n",
      "execution_count": 24,
      "outputs": [
        {
          "output_type": "stream",
          "name": "stdout",
          "text": "Enter the title of a favorite book: Marco Tulio Ciceron\nMarco Tulio Ciceron - nice capitalization in that title!\n"
        }
      ]
    },
    {
      "metadata": {
        "trusted": true
      },
      "cell_type": "code",
      "source": "# Review code and run cell\na_number = input(\"Enter a positive integet number: \")\nif a_number.isdigit():\n    print(a_number,\"is a positive integer\")\nelse:\n    print(a_number,\"is not a positive integer\")",
      "execution_count": 28,
      "outputs": [
        {
          "output_type": "stream",
          "name": "stdout",
          "text": "Enter a positive integet number: -1\n-1 is not a positive integer\n"
        }
      ]
    },
    {
      "metadata": {
        "trusted": true
      },
      "cell_type": "code",
      "source": "# Another if\na_number = input(\"Enter a positive integet number: \")\nif a_number.isalpha():\n    print(a_number,\"is more like a word\")\nelse:\n    pass",
      "execution_count": 31,
      "outputs": [
        {
          "output_type": "stream",
          "name": "stdout",
          "text": "Enter a positive integet number: 14\n"
        }
      ]
    },
    {
      "metadata": {
        "trusted": true
      },
      "cell_type": "code",
      "source": "# Review code and run cell\nvehicle_type = input('\"Enter a type of vehicle that starts with \"P\": ')\nif vehicle_type.upper().startswith(\"P\"):\n    print(vehicle_type,'starts with \"P\"')\nelse:\n    print(vehicle_type,'does not start with \"P\"')",
      "execution_count": 33,
      "outputs": [
        {
          "output_type": "stream",
          "name": "stdout",
          "text": "\"Enter a type of vehicle that starts with \"P\": Ford\nFord does not start with \"P\"\n"
        }
      ]
    },
    {
      "metadata": {},
      "cell_type": "markdown",
      "source": "# Task 2 - Multiple Part\n- Create evaluation for .islower()"
    },
    {
      "metadata": {
        "trusted": true
      },
      "cell_type": "code",
      "source": "# Print outcome describing if each of the two string is all lower or not\ntest_string_1 = input(\"Let me know if it contain only lower or not: \")\nif test_string_1.islower():\n    print(test_string_1+\", has only lower case.\")\nelse:\n    print(test_string_1+\", has upper case\")",
      "execution_count": 37,
      "outputs": [
        {
          "output_type": "stream",
          "name": "stdout",
          "text": "Let me know if it contain only lower or not: sim\nsim, has only lower case.\n"
        }
      ]
    },
    {
      "metadata": {
        "trusted": true
      },
      "cell_type": "code",
      "source": "test_string_2 = input(\"Does the next sentence contains only lower case? \")\nif test_string_2.islower():\n    print(test_string_2+\", has only lower case.\")\nelse:\n    print(test_string_2+\", has upper case\")",
      "execution_count": 41,
      "outputs": [
        {
          "output_type": "stream",
          "name": "stdout",
          "text": "Does the next sentence contains only lower case? I have $3\nI have $3, has upper case\n"
        }
      ]
    },
    {
      "metadata": {},
      "cell_type": "markdown",
      "source": "# Task 2 continue\n- Create a function using startwith('w')"
    },
    {
      "metadata": {
        "trusted": true
      },
      "cell_type": "code",
      "source": "test_string_3 = input(\"Does the next sentence starts with 'w': \")\nif test_string_3.lower().startswith(\"w\"):\n    print(test_string_3+\", starts with 'w'\")\nelse:\n    print(test_string_3+\", No!\")",
      "execution_count": 43,
      "outputs": [
        {
          "output_type": "stream",
          "name": "stdout",
          "text": "Does the next sentence starts with 'w': welcome\nwelcome, starts with 'w'\n"
        }
      ]
    },
    {
      "metadata": {
        "trusted": true
      },
      "cell_type": "code",
      "source": "test_string_4 = input(\"Does the next sentence starts with 'w': \")\nif test_string_4.lower().startswith('w'):\n    print(test_string_4+\", starts with 'w'\")\nelse:\n    print(test_string_4+\", No!\")",
      "execution_count": 45,
      "outputs": [
        {
          "output_type": "stream",
          "name": "stdout",
          "text": "Does the next sentence starts with 'w': I have $3\nI have $3, No!\n"
        }
      ]
    },
    {
      "metadata": {
        "trusted": true
      },
      "cell_type": "code",
      "source": "w_start_test = input(\"Does the next sentence starts with 'w': \")\nif w_start_test.startswith('w'):\n    print(w_start_test+\", Ye\")\nelse:\n    pass",
      "execution_count": 47,
      "outputs": [
        {
          "output_type": "stream",
          "name": "stdout",
          "text": "Does the next sentence starts with 'w': with a function is efficient to repeat code\nwith a function is efficient to repeat code, Ye\n"
        }
      ]
    },
    {
      "metadata": {
        "trusted": true
      },
      "cell_type": "code",
      "source": "      vehicle_type = \"Truck\"\n\nif vehicle_type.upper().startswith(\"P\"):\n    print(vehicle_type, 'starts with \"P\"')\nelse:\n    print(vehicle_type, 'does not start with \"P\"')",
      "execution_count": 48,
      "outputs": [
        {
          "output_type": "stream",
          "text": "Truck does not start with \"P\"\n",
          "name": "stdout"
        }
      ]
    },
    {
      "metadata": {
        "trusted": true
      },
      "cell_type": "code",
      "source": "",
      "execution_count": null,
      "outputs": []
    }
  ],
  "metadata": {
    "kernelspec": {
      "name": "python3",
      "display_name": "Python 3",
      "language": "python"
    },
    "language_info": {
      "mimetype": "text/x-python",
      "nbconvert_exporter": "python",
      "name": "python",
      "pygments_lexer": "ipython3",
      "version": "3.5.4",
      "file_extension": ".py",
      "codemirror_mode": {
        "version": 3,
        "name": "ipython"
      }
    }
  },
  "nbformat": 4,
  "nbformat_minor": 1
}
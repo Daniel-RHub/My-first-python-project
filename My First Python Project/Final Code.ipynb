{
  "cells": [
    {
      "metadata": {},
      "cell_type": "markdown",
      "source": "# Final Code"
    },
    {
      "metadata": {
        "trusted": true
      },
      "cell_type": "code",
      "source": "# [ ] create, call and test the adding_report() function\n# then PASTE THIS CODE into edX\nprint('Report types include All items (\"A\") or Total only (\"T\")')\nreport_type = input('Choose report type (\"A\" or \"T\"): ')\nwhile report_type == \"\":\n    report_type = input('Choose report type (\"A\" or \"T\"): ')\ndef adding_report():\n    total = 0\n    items = \"\"\n    while (report_type.istitle() != \"Q\") or (report_type.isdigit() == False) or (report_type.startswith(\"Q\") == False):\n        report_type = input('Enter an integer or \"Q\": ')\n        if report_type.upper().startswith(\"A\") == True:\n            if report_type.upper().startswith(\"T\") == True:\n                total = total + int(report_type)\n                print(\"Total\\n\"+total)\n            items = items + \"\\n\" + report_type\n            print(\"Items\\n\"+items)\n            print(\"Total\\n\"+total)\n        elif report_type.upper().startswith(\"Q\"):\n            break\n        else:\n            print(\"\")\n\n            \nadding_report()\n        \n        \n        \n",
      "execution_count": 11,
      "outputs": [
        {
          "output_type": "stream",
          "text": "Report types include All items (\"A\") or Total only (\"T\")\nChoose report type (\"A\" or \"T\"): Q\n",
          "name": "stdout"
        },
        {
          "output_type": "error",
          "ename": "UnboundLocalError",
          "evalue": "local variable 'report_type' referenced before assignment",
          "traceback": [
            "\u001b[0;31m---------------------------------------------------------------------------\u001b[0m",
            "\u001b[0;31mUnboundLocalError\u001b[0m                         Traceback (most recent call last)",
            "\u001b[0;32m<ipython-input-11-87d5726f2b51>\u001b[0m in \u001b[0;36m<module>\u001b[0;34m()\u001b[0m\n\u001b[1;32m     21\u001b[0m \u001b[0;34m\u001b[0m\u001b[0m\n\u001b[1;32m     22\u001b[0m \u001b[0;34m\u001b[0m\u001b[0m\n\u001b[0;32m---> 23\u001b[0;31m \u001b[0madding_report\u001b[0m\u001b[0;34m(\u001b[0m\u001b[0;34m)\u001b[0m\u001b[0;34m\u001b[0m\u001b[0m\n\u001b[0m\u001b[1;32m     24\u001b[0m \u001b[0;34m\u001b[0m\u001b[0m\n\u001b[1;32m     25\u001b[0m \u001b[0;34m\u001b[0m\u001b[0m\n",
            "\u001b[0;32m<ipython-input-11-87d5726f2b51>\u001b[0m in \u001b[0;36madding_report\u001b[0;34m()\u001b[0m\n\u001b[1;32m      8\u001b[0m     \u001b[0mtotal\u001b[0m \u001b[0;34m=\u001b[0m \u001b[0;36m0\u001b[0m\u001b[0;34m\u001b[0m\u001b[0m\n\u001b[1;32m      9\u001b[0m     \u001b[0mitems\u001b[0m \u001b[0;34m=\u001b[0m \u001b[0;34m\"\"\u001b[0m\u001b[0;34m\u001b[0m\u001b[0m\n\u001b[0;32m---> 10\u001b[0;31m     \u001b[0;32mwhile\u001b[0m \u001b[0;34m(\u001b[0m\u001b[0mreport_type\u001b[0m\u001b[0;34m.\u001b[0m\u001b[0mistitle\u001b[0m\u001b[0;34m(\u001b[0m\u001b[0;34m)\u001b[0m \u001b[0;34m!=\u001b[0m \u001b[0;34m\"Q\"\u001b[0m\u001b[0;34m)\u001b[0m \u001b[0;32mor\u001b[0m \u001b[0;34m(\u001b[0m\u001b[0mreport_type\u001b[0m\u001b[0;34m.\u001b[0m\u001b[0misdigit\u001b[0m\u001b[0;34m(\u001b[0m\u001b[0;34m)\u001b[0m \u001b[0;34m==\u001b[0m \u001b[0;32mFalse\u001b[0m\u001b[0;34m)\u001b[0m \u001b[0;32mor\u001b[0m \u001b[0;34m(\u001b[0m\u001b[0mreport_type\u001b[0m\u001b[0;34m.\u001b[0m\u001b[0mstartswith\u001b[0m\u001b[0;34m(\u001b[0m\u001b[0;34m\"Q\"\u001b[0m\u001b[0;34m)\u001b[0m \u001b[0;34m==\u001b[0m \u001b[0;32mFalse\u001b[0m\u001b[0;34m)\u001b[0m\u001b[0;34m:\u001b[0m\u001b[0;34m\u001b[0m\u001b[0m\n\u001b[0m\u001b[1;32m     11\u001b[0m         \u001b[0mreport_type\u001b[0m \u001b[0;34m=\u001b[0m \u001b[0minput\u001b[0m\u001b[0;34m(\u001b[0m\u001b[0;34m'Enter an integer or \"Q\": '\u001b[0m\u001b[0;34m)\u001b[0m\u001b[0;34m\u001b[0m\u001b[0m\n\u001b[1;32m     12\u001b[0m         \u001b[0;32mif\u001b[0m \u001b[0mreport_type\u001b[0m\u001b[0;34m.\u001b[0m\u001b[0mupper\u001b[0m\u001b[0;34m(\u001b[0m\u001b[0;34m)\u001b[0m\u001b[0;34m.\u001b[0m\u001b[0mstartswith\u001b[0m\u001b[0;34m(\u001b[0m\u001b[0;34m\"A\"\u001b[0m\u001b[0;34m)\u001b[0m \u001b[0;34m==\u001b[0m \u001b[0;32mTrue\u001b[0m\u001b[0;34m:\u001b[0m\u001b[0;34m\u001b[0m\u001b[0m\n",
            "\u001b[0;31mUnboundLocalError\u001b[0m: local variable 'report_type' referenced before assignment"
          ]
        }
      ]
    },
    {
      "metadata": {
        "trusted": true
      },
      "cell_type": "code",
      "source": "print('Report types include All items (\"A\") or Total only (\"T\")')\nreport_type = input('Choose report type (\"A\" or \"T\"): ')\ndef adding_report():\n    total = 0\n    items = \"\"\n    while (report_type.istitle() != \"Q\") or (report_type.isdigit() == False) or (report_type.startswith(\"Q\") == False):\n        report_type = input('Enter an integer or \"Q\": ')\n        if report_type.upper().startswith(\"A\") == True:\n            items = items + \"\\n\" + report_type\n            print(\"Items\\n\"+items)\n            print(\"Total\\n\"+total)\n            break\n        elif report_type.upper().startswith(\"T\") == True:\n                total = total + int(report_type)\n                print(\"Total\\n\"+total)\n                break\n        elif report_type.upper().startswith(\"Q\"):\n            break\n        else:\n            print(\"Input is invalid\")\nadding_report()\n\n    ",
      "execution_count": 17,
      "outputs": [
        {
          "output_type": "stream",
          "text": "Report types include All items (\"A\") or Total only (\"T\")\nChoose report type (\"A\" or \"T\"): A\n",
          "name": "stdout"
        },
        {
          "output_type": "error",
          "ename": "UnboundLocalError",
          "evalue": "local variable 'report_type' referenced before assignment",
          "traceback": [
            "\u001b[0;31m---------------------------------------------------------------------------\u001b[0m",
            "\u001b[0;31mUnboundLocalError\u001b[0m                         Traceback (most recent call last)",
            "\u001b[0;32m<ipython-input-17-f1378b4a2168>\u001b[0m in \u001b[0;36m<module>\u001b[0;34m()\u001b[0m\n\u001b[1;32m     17\u001b[0m         \u001b[0;32melse\u001b[0m\u001b[0;34m:\u001b[0m\u001b[0;34m\u001b[0m\u001b[0m\n\u001b[1;32m     18\u001b[0m             \u001b[0mprint\u001b[0m\u001b[0;34m(\u001b[0m\u001b[0;34m\"Input is invalid\"\u001b[0m\u001b[0;34m)\u001b[0m\u001b[0;34m\u001b[0m\u001b[0m\n\u001b[0;32m---> 19\u001b[0;31m \u001b[0madding_report\u001b[0m\u001b[0;34m(\u001b[0m\u001b[0;34m)\u001b[0m\u001b[0;34m\u001b[0m\u001b[0m\n\u001b[0m\u001b[1;32m     20\u001b[0m \u001b[0;34m\u001b[0m\u001b[0m\n\u001b[1;32m     21\u001b[0m \u001b[0;34m\u001b[0m\u001b[0m\n",
            "\u001b[0;32m<ipython-input-17-f1378b4a2168>\u001b[0m in \u001b[0;36madding_report\u001b[0;34m()\u001b[0m\n\u001b[1;32m      4\u001b[0m     \u001b[0mtotal\u001b[0m \u001b[0;34m=\u001b[0m \u001b[0;36m0\u001b[0m\u001b[0;34m\u001b[0m\u001b[0m\n\u001b[1;32m      5\u001b[0m     \u001b[0mitems\u001b[0m \u001b[0;34m=\u001b[0m \u001b[0;34m\"\"\u001b[0m\u001b[0;34m\u001b[0m\u001b[0m\n\u001b[0;32m----> 6\u001b[0;31m     \u001b[0;32mwhile\u001b[0m \u001b[0;34m(\u001b[0m\u001b[0mreport_type\u001b[0m\u001b[0;34m.\u001b[0m\u001b[0mistitle\u001b[0m\u001b[0;34m(\u001b[0m\u001b[0;34m)\u001b[0m \u001b[0;34m!=\u001b[0m \u001b[0;34m\"Q\"\u001b[0m\u001b[0;34m)\u001b[0m \u001b[0;32mor\u001b[0m \u001b[0;34m(\u001b[0m\u001b[0mreport_type\u001b[0m\u001b[0;34m.\u001b[0m\u001b[0misdigit\u001b[0m\u001b[0;34m(\u001b[0m\u001b[0;34m)\u001b[0m \u001b[0;34m==\u001b[0m \u001b[0;32mFalse\u001b[0m\u001b[0;34m)\u001b[0m \u001b[0;32mor\u001b[0m \u001b[0;34m(\u001b[0m\u001b[0mreport_type\u001b[0m\u001b[0;34m.\u001b[0m\u001b[0mstartswith\u001b[0m\u001b[0;34m(\u001b[0m\u001b[0;34m\"Q\"\u001b[0m\u001b[0;34m)\u001b[0m \u001b[0;34m==\u001b[0m \u001b[0;32mFalse\u001b[0m\u001b[0;34m)\u001b[0m\u001b[0;34m:\u001b[0m\u001b[0;34m\u001b[0m\u001b[0m\n\u001b[0m\u001b[1;32m      7\u001b[0m         \u001b[0mreport_type\u001b[0m \u001b[0;34m=\u001b[0m \u001b[0minput\u001b[0m\u001b[0;34m(\u001b[0m\u001b[0;34m'Enter an integer or \"Q\": '\u001b[0m\u001b[0;34m)\u001b[0m\u001b[0;34m\u001b[0m\u001b[0m\n\u001b[1;32m      8\u001b[0m         \u001b[0;32mif\u001b[0m \u001b[0mreport_type\u001b[0m\u001b[0;34m.\u001b[0m\u001b[0mupper\u001b[0m\u001b[0;34m(\u001b[0m\u001b[0;34m)\u001b[0m\u001b[0;34m.\u001b[0m\u001b[0mstartswith\u001b[0m\u001b[0;34m(\u001b[0m\u001b[0;34m\"A\"\u001b[0m\u001b[0;34m)\u001b[0m \u001b[0;34m==\u001b[0m \u001b[0;32mTrue\u001b[0m\u001b[0;34m:\u001b[0m\u001b[0;34m\u001b[0m\u001b[0m\n",
            "\u001b[0;31mUnboundLocalError\u001b[0m: local variable 'report_type' referenced before assignment"
          ]
        }
      ]
    },
    {
      "metadata": {
        "trusted": true
      },
      "cell_type": "code",
      "source": "print('Report types include All items (\"A\") or Total only (\"T\")')\ndef adding_report():\n    total = 0\n    i = 0\n    items = \"\"\n    report_type = \"\"\n    while (report_type.upper().startswith(\"A\") == True) or (report_type.upper().startswith(\"T\") == True) or (report_type.istitle() != \"Q\") or (report_type.isdigit() == False) or (report_type.startswith(\"Q\") == False):\n        report_type = input('Choose report type (\"A\" or \"T\"): ')\n        if (report_type.lower() == \"q\") or (report_type.lower().startswith(\"q\") == True):\n            items = items + \"\\n\" + report_type\n            total = total + int(report_type)\n            i = i + 1\n            break\n        elif report_type.upper().startswith(\"A\") == True:\n            report_type = input('Enter an integer or \"Q\": ')\n            items = items + \"\\n\" + report_type\n            total = total + int(report_type)\n            print(\"Items\\n\"+ items) \n            print(\"Total\\n\"+ str(total))\n            break\n        elif report_type.upper().startswith(\"T\") == True:\n            report_type = input('Enter an integer or \"Q\": ')\n            items = items + \"\\n\" + report_type\n            total = total + int(report_type)\n            print(\"Total\\n\" + str(total))\n            break\n        else:\n            print(\"Invalid input.\")\nadding_report()",
      "execution_count": null,
      "outputs": []
    },
    {
      "metadata": {
        "trusted": true
      },
      "cell_type": "code",
      "source": "# [ ] create, call and test the adding_report() function\n# then PASTE THIS CODE into edX\nprint('Report types include All items (\"A\") or Total only (\"T\")')\ndef adding_report(report):\n    total = 0\n    i = 0\n    items = \"\"\n    report_type = \"\"\n    while (report_type.upper() != \"Q\") or (report_type.upper().startswith(\"Q\") != True) or (report_type.isdigit() == False):\n        report_type = input(\"Enter an integer or 'Q': \")\n        if (report_type.lower() == \"q\") or (report_type.lower().startswith(\"q\") == True):\n            break\n        else:\n            items = items + \"\\n\" + report_type\n            total = total + int(report_type)\n            i = i + 1\n            \n    if report == \"A\":\n        print(\"Items\", items + \"\\n\") \n        print(\"Total\\n\", total) \n    elif report == \"T\": \n        print(\"Total\\n\", total)\n\nadding_report(\"A\")",
      "execution_count": 4,
      "outputs": [
        {
          "output_type": "stream",
          "text": "Report types include All items (\"A\") or Total only (\"T\")\nEnter an integer or 'Q': 1\nEnter an integer or 'Q': 2\nEnter an integer or 'Q': 3\nEnter an integer or 'Q': 4\nEnter an integer or 'Q': 5\nEnter an integer or 'Q': 6\nEnter an integer or 'Q': q\nItems \n1\n2\n3\n4\n5\n6\n\nTotal\n 21\n",
          "name": "stdout"
        }
      ]
    },
    {
      "metadata": {
        "trusted": true
      },
      "cell_type": "code",
      "source": "",
      "execution_count": null,
      "outputs": []
    }
  ],
  "metadata": {
    "kernelspec": {
      "name": "python3",
      "display_name": "Python 3",
      "language": "python"
    },
    "language_info": {
      "mimetype": "text/x-python",
      "nbconvert_exporter": "python",
      "name": "python",
      "pygments_lexer": "ipython3",
      "version": "3.5.4",
      "file_extension": ".py",
      "codemirror_mode": {
        "version": 3,
        "name": "ipython"
      }
    }
  },
  "nbformat": 4,
  "nbformat_minor": 1
}
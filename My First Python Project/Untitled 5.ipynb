{
  "cells": [
    {
      "metadata": {
        "trusted": true
      },
      "cell_type": "code",
      "source": "num_1 = \"\"\nnum_temp = \"\"\nnum_final = \"\"\n\nwhile True:\n    num_1 = input(\"Enter an integer: \")\n    if num_1.isdigit():\n        num_final = num_temp + num_1\n        num_temp = num_final\n    else:\n        print(num_final)\n        break",
      "execution_count": 1,
      "outputs": [
        {
          "output_type": "stream",
          "name": "stdout",
          "text": "Enter an integer: 3\nEnter an integer: 4\nEnter an integer: five\n34\n"
        }
      ]
    },
    {
      "metadata": {
        "trusted": true
      },
      "cell_type": "code",
      "source": "x = 0 \n\nwhile True:\n    if x < 10:\n        print('run forever')\n        x += 1\n    else:\n        break",
      "execution_count": 3,
      "outputs": [
        {
          "output_type": "stream",
          "text": "run forever\nrun forever\nrun forever\nrun forever\nrun forever\nrun forever\nrun forever\nrun forever\nrun forever\nrun forever\n",
          "name": "stdout"
        }
      ]
    },
    {
      "metadata": {
        "trusted": true
      },
      "cell_type": "code",
      "source": "",
      "execution_count": null,
      "outputs": []
    }
  ],
  "metadata": {
    "kernelspec": {
      "name": "python3",
      "display_name": "Python 3",
      "language": "python"
    },
    "language_info": {
      "mimetype": "text/x-python",
      "nbconvert_exporter": "python",
      "name": "python",
      "pygments_lexer": "ipython3",
      "version": "3.5.4",
      "file_extension": ".py",
      "codemirror_mode": {
        "version": 3,
        "name": "ipython"
      }
    }
  },
  "nbformat": 4,
  "nbformat_minor": 1
}
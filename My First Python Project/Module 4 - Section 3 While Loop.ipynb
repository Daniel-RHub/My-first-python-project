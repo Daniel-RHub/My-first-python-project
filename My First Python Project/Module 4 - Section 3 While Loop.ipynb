{
  "cells": [
    {
      "metadata": {},
      "cell_type": "markdown",
      "source": "# Module 4 - Section 3 'While' loop and incrementing\n## While True Loop\n### Using the while true: loop\n- While true: is know as the forever loop because.... it loops forever\n- Using the while true: statement results in a loop that continues to run forever.... or, until the loop is interrupted, such as with a break statement\n## Example"
    },
    {
      "metadata": {
        "trusted": true
      },
      "cell_type": "code",
      "source": "# Review and run the code\n# this examples never loops because the break has no conditions\nwhile True:\n    print('write forever, unless there is a \"Break\"')\n    break",
      "execution_count": 1,
      "outputs": [
        {
          "output_type": "stream",
          "text": "write forever, unless there is a \"Break\"\n",
          "name": "stdout"
        }
      ]
    },
    {
      "metadata": {
        "trusted": true
      },
      "cell_type": "code",
      "source": "while True:\n    print('Write forever, unless there is a \"Break\"')\n    break",
      "execution_count": 3,
      "outputs": [
        {
          "output_type": "stream",
          "text": "Write forever, unless there is a \"Break\"\n",
          "name": "stdout"
        }
      ]
    },
    {
      "metadata": {
        "trusted": true
      },
      "cell_type": "code",
      "source": "while True:\n    print('Write forever, unless there is a \"Break\"')\n    break",
      "execution_count": 2,
      "outputs": [
        {
          "output_type": "stream",
          "text": "Write forever, unless there is a \"Break\"\n",
          "name": "stdout"
        }
      ]
    },
    {
      "metadata": {
        "trusted": true
      },
      "cell_type": "code",
      "source": "# [ ] review the NUMBER GUESS code then run - Q. what cause the break statement to run?\nnumber_guess = \"0\"\nsecret_number = \"5\"\n\nwhile True:\n    number_guess = input(\"Guess the number 1 to 5: \")\n    if number_guess == secret_number:\n        print(\"Yes\", number_guess,\"is correct!\\n\")\n        break\n    else:\n        print(number_guess,\"is incorrect\\n\")",
      "execution_count": 3,
      "outputs": [
        {
          "output_type": "stream",
          "name": "stdout",
          "text": "Guess the number 1 to 5: 0\n0 is incorrect\n\nGuess the number 1 to 5: 1\n1 is incorrect\n\nGuess the number 1 to 5: 2\n2 is incorrect\n\nGuess the number 1 to 5: 3\n3 is incorrect\n\nGuess the number 1 to 5: 4\n4 is incorrect\n\nGuess the number 1 to 5: 5\nYes 5 is correct!\n\n"
        }
      ]
    },
    {
      "metadata": {
        "trusted": true
      },
      "cell_type": "code",
      "source": "secret_number = \"5\"\nwhile True:\n    number_guess = input(\"Guess the number 1 to 5: \")\n    if number_guess == secret_number:\n        print(\"Yes\",number_guess,\"is correct!\\n\")\n        break\n    else:\n        print(number_guess,\"is incorrect\\n\")",
      "execution_count": 4,
      "outputs": [
        {
          "output_type": "stream",
          "name": "stdout",
          "text": "Guess the number 1 to 5: 1\n1 is incorrect\n\nGuess the number 1 to 5: 2\n2 is incorrect\n\nGuess the number 1 to 5: 3\n3 is incorrect\n\nGuess the number 1 to 5: 0\n0 is incorrect\n\nGuess the number 1 to 5: 10\n10 is incorrect\n\nGuess the number 1 to 5: ocho\nocho is incorrect\n\nGuess the number 1 to 5: cinco\ncinco is incorrect\n\nGuess the number 1 to 5: 5\nYes 5 is correct!\n\n"
        }
      ]
    },
    {
      "metadata": {
        "trusted": true
      },
      "cell_type": "code",
      "source": "# [ ] review WHAT TO WEAR code then run testing different inputs\nwhile True:\n    weather = input(\"Enter weather (sunny, rainy, snowy, or quit): \") \n    print()\n\n    if weather.lower() == \"sunny\":\n        print(\"Wear a t-shirt and sunscreen\")\n        break\n    elif weather.lower() == \"rainy\":\n        print(\"Bring an umbrella and boots\")\n        break\n    elif weather.lower() == \"snowy\":\n        print(\"Wear a warm coat and hat\")\n        break\n    elif weather.lower().startswith(\"q\"):\n        print('\"quit\" detected, exiting')\n        break\n    else:\n        print(\"Sorry, not sure what to suggest for\", weather +\"\\n\")",
      "execution_count": null,
      "outputs": []
    },
    {
      "metadata": {},
      "cell_type": "markdown",
      "source": "# Task 1\n### Get a name forever... or until done"
    },
    {
      "metadata": {
        "trusted": true
      },
      "cell_type": "code",
      "source": "\ndef familiar_name():\n    while True:\n        name_input = input(\"What's a common name your friends and family use? \")\n        if name_input.isalpha():\n            break\n        else:\n            print()\nprint()\nprint(\"Hey \"+ name_input)\n\nfamiliar_name()",
      "execution_count": 10,
      "outputs": [
        {
          "output_type": "stream",
          "text": "\nHey 0\nWhat's a common name your friends and family use? ps ya que\n\nWhat's a common name your friends and family use? ocho\n",
          "name": "stdout"
        }
      ]
    },
    {
      "metadata": {
        "trusted": true
      },
      "cell_type": "markdown",
      "source": "# Task 1\n## Get name forever.... or until done"
    },
    {
      "metadata": {
        "trusted": true
      },
      "cell_type": "code",
      "source": "\ndef apodo():\n    while True:\n        \n        apodo_comun = input(\"Apodos comunes en Mexico: \")\n        \n        if apodo_comun.isalpha():\n            break\n            \n        else:\n            print()\n    print()\n    print(\"Hey \"+ apodo_comun)\n\napodo()\n        ",
      "execution_count": 22,
      "outputs": [
        {
          "output_type": "stream",
          "name": "stdout",
          "text": "Apodos comunes en Mexico: Cabezon\n\nHey Cabezon\n"
        }
      ]
    },
    {
      "metadata": {
        "trusted": true
      },
      "cell_type": "code",
      "source": "#!/usr/bin/python3\n\nstr = \"this\";  # No space & digit in this string\nprint (str.isalpha())\n\nstr = \"this is string example....wow!!!\"\nprint (str.isalpha())",
      "execution_count": 11,
      "outputs": [
        {
          "output_type": "stream",
          "text": "True\nFalse\n",
          "name": "stdout"
        }
      ]
    },
    {
      "metadata": {
        "trusted": true
      },
      "cell_type": "code",
      "source": "# [ ] create Get Name program\n\ndef familiar_name():\n\n    while True:\n\n        name_input = input(\"What's a common name your friends and family use?\")\n\n        if name_input.isalpha():\n            break\n\n        else:\n            print()\n    \n    print()\n    print(\"Hey \" + name_input)\n    \nfamiliar_name()",
      "execution_count": 15,
      "outputs": [
        {
          "output_type": "stream",
          "name": "stdout",
          "text": "What's a common name your friends and family use?cochinon\n\nHey cochinon\n"
        }
      ]
    },
    {
      "metadata": {
        "trusted": true
      },
      "cell_type": "code",
      "source": "# [ ] create Get Name program\n\ndef familiar_name():\n\n    while True:\n\n        name_in = input(\"What's a common name your friends and family use?\")\n\n        if name_in.isalpha():\n            break\n\n        else:\n            print()\n    \n    print()\n    print(\"Hey \" + name_in)\n    \nfamiliar_name()",
      "execution_count": 18,
      "outputs": [
        {
          "output_type": "stream",
          "name": "stdout",
          "text": "What's a common name your friends and family use?cochinon\n\nHey cochinon\n"
        }
      ]
    },
    {
      "metadata": {
        "trusted": true
      },
      "cell_type": "code",
      "source": "def no_apellido():\n    while True:\n        solo_nombre = input(\"Escribe tu primer nombre: \")\n        if solo_nombre.isalpha():\n            break\n        else:\n            print()\n        print()\n    print(\"Hola,\",solo_nombre+\"!\")\nno_apellido()\n    \n    ",
      "execution_count": 28,
      "outputs": [
        {
          "output_type": "stream",
          "name": "stdout",
          "text": "Escribe tu primer nombre: Daniel Ruiz\n\n\nEscribe tu primer nombre: Daniel\nHola, Daniel!\n"
        }
      ]
    },
    {
      "metadata": {
        "trusted": true
      },
      "cell_type": "code",
      "source": "def las_dugs():\n    while True:\n        mama_mascota = input(\"Cuantos a;os vivio las dug: \")\n        if mama_mascota.isdigit():\n            break\n        else:\n            print()\n    print(mama_mascota+\", Correcto!\")\nlas_dugs()",
      "execution_count": 30,
      "outputs": [
        {
          "output_type": "stream",
          "name": "stdout",
          "text": "Cuantos a;os vivio las dug: once\n\nCuantos a;os vivio las dug: doce\n\nCuantos a;os vivio las dug: 12\n12, Correcto!\n"
        }
      ]
    },
    {
      "metadata": {},
      "cell_type": "markdown",
      "source": "## Concept: Variable Increment\n### Incrementing\n- votes = votes + 1 or votes += 1\n\n### Decrementing\n- votes = votes -1 or votes -= 1\n\n## Example"
    },
    {
      "metadata": {
        "trusted": true
      },
      "cell_type": "code",
      "source": "# Review and run\nvotes = 3\nprint(votes)",
      "execution_count": 1,
      "outputs": [
        {
          "output_type": "stream",
          "text": "3\n",
          "name": "stdout"
        }
      ]
    },
    {
      "metadata": {
        "trusted": true
      },
      "cell_type": "code",
      "source": "votes = votes + 1\nprint(votes)",
      "execution_count": 32,
      "outputs": [
        {
          "output_type": "stream",
          "text": "4\n",
          "name": "stdout"
        }
      ]
    },
    {
      "metadata": {
        "trusted": true
      },
      "cell_type": "code",
      "source": "votes += 2\nprint(votes)",
      "execution_count": 34,
      "outputs": [
        {
          "output_type": "stream",
          "text": "8\n",
          "name": "stdout"
        }
      ]
    },
    {
      "metadata": {
        "trusted": true
      },
      "cell_type": "code",
      "source": "# [ ] review and run example\nvotes = 3\nprint(votes)\n\nvotes = votes + 1\nprint(votes)\n\nvotes += 2\nprint(votes)\nprint(votes)\n\nvotes -= 1\nprint(votes)",
      "execution_count": 35,
      "outputs": [
        {
          "output_type": "stream",
          "text": "3\n4\n6\n6\n5\n",
          "name": "stdout"
        }
      ]
    },
    {
      "metadata": {
        "trusted": true
      },
      "cell_type": "code",
      "source": "# Review the SEAT COUNT code then run\nseat_count = 0\nwhile True:\n    print(\"Seat count:\",seat_count)\n    seat_count = seat_count + 1\n    if seat_count > 3:\n        break",
      "execution_count": 38,
      "outputs": [
        {
          "output_type": "stream",
          "text": "Seat count: 0\nSeat count: 1\nSeat count: 2\nSeat count: 3\n",
          "name": "stdout"
        }
      ]
    },
    {
      "metadata": {
        "trusted": true
      },
      "cell_type": "code",
      "source": "# Review the SEAT TYPE COUNT  code then run entering: hard, soft medium and exit\n# Initialize variable\nseat_count = 0\nsoft_seats = 0\nhard_seats = 0\nnum_seats = 4\n\n# loops tallying seats using soft pads vs hard, until seats full or use \"exits\"\nwhile True:\n    seat_type = input('Enter seat type of \"Hard\", \"Soft\" or \"Exit\" (to finish): ')\n    if seat_type.lower().startswith(\"E\"):\n        print()\n        break\n    elif seat_type.title() == \"Hard\":\n        hard_seats += 1\n    elif seat_type.title() == \"Soft\":\n        soft_seats += 1\n    else:\n        print(\"Invalid entry: counted as hard\")\n        hard_seats += 1\n    seat_count += 1\n    if seat_count >= num_seats:\n        print(\"\\nSeats are full\")\n        break\nprint(seat_count,\"Seats total:\",hard_seats,\"hard and\",soft_seats,\"soft\")\n\n    \n    ",
      "execution_count": 4,
      "outputs": [
        {
          "output_type": "stream",
          "name": "stdout",
          "text": "Enter seat type of \"Hard\", \"Soft\" or \"Exit\" (to finish): Hard\nEnter seat type of \"Hard\", \"Soft\" or \"Exit\" (to finish): Hard\nEnter seat type of \"Hard\", \"Soft\" or \"Exit\" (to finish): Soft\nEnter seat type of \"Hard\", \"Soft\" or \"Exit\" (to finish): Soft\n\nSeats are full\n4 Seats total: 2 hard and 2 soft\n"
        }
      ]
    },
    {
      "metadata": {
        "trusted": true
      },
      "cell_type": "markdown",
      "source": "## Task 2\n### Program: Shirt Register"
    },
    {
      "metadata": {
        "trusted": true
      },
      "cell_type": "code",
      "source": "# Number or shirts purshased\nS = 0\nM = 0\nL = 0\nshirt_count = 0\nmax_shirt = 6\n\n# Loop tallying shirts using small, medium and large sizes or use \"exit\"\nwhile True:\n    shirt_size = input(\"Enter the shirt size you are looking for: \")\n    if shirt_size.upper().startswith(\"S\"):\n        S += 1\n    elif shirt_size.upper().startswith(\"M\"):\n        M += 1\n    elif shirt_size.upper().startswith(\"L\"):\n        L += 1\n    elif shirt_size.upper().startswith(\"E\"):\n        print()\n        break\n    else:\n        print(\"Invalid entry: We run out of that size\")\n    shirt_count += 1\n    if shirt_count >= max_shirt:\n        print(\"We run out of shirts!\")\n        break\nprint(shirt_count,\"Total shirts\",\"Small =\",S,\"Medium =\",M,\"Large =\",L)\n    ",
      "execution_count": 4,
      "outputs": [
        {
          "output_type": "stream",
          "name": "stdout",
          "text": "Enter the shirt size you are looking for: s\nEnter the shirt size you are looking for: s\nEnter the shirt size you are looking for: s\nEnter the shirt size you are looking for: s\nEnter the shirt size you are looking for: s\nEnter the shirt size you are looking for: s\nWe run out of shirts!\n6 Total shirts Small = 6 Medium = 0 Large = 0\n"
        }
      ]
    },
    {
      "metadata": {
        "trusted": true
      },
      "cell_type": "code",
      "source": "# Number of shirt purchased\nS = 0\nM = 0\nL = 0\nshirt_count = 0\nmax_shirt = 6\n\n# Loop tallying shirts using small, medium or large sizes or use \"Exit\"\nwhile True:\n    shirt_size = input(\"Enter the shirt size you are looking for: \")\n    if shirt_size.upper().startswith(\"S\"):\n        S += 1\n    elif shirt_size.upper().startswith(\"M\"):\n        M += 1\n    elif shirt_size.upper().startswith(\"L\"):\n        L += 1\n    elif shirt_size.upper().startswith(\"E\"):\n        print()\n        break\n    else:\n        print(\"Invalid entry, we run out of size.\")\n    shirt_count += 1\n    if shirt_count >= max_shirt:\n        print(\"We run out of shirts!\")\n        break\nprint(shirt_count,\"Total shirts.\",\"Small =\",S,\"Medium =\",M,\"Large =\",L)",
      "execution_count": 3,
      "outputs": [
        {
          "output_type": "stream",
          "name": "stdout",
          "text": "Enter the shirt size you are looking for: s\nEnter the shirt size you are looking for: l\nEnter the shirt size you are looking for: l\nEnter the shirt size you are looking for: s\nEnter the shirt size you are looking for: m\nEnter the shirt size you are looking for: s\nWe run out of shirts!\n6 Total shirts Small = 3 Medium = 1 Large = 2\n"
        }
      ]
    },
    {
      "metadata": {},
      "cell_type": "markdown",
      "source": "### CHALLENGE: Shirt Register (Optional)"
    },
    {
      "metadata": {
        "trusted": true
      },
      "cell_type": "code",
      "source": "# Update shirt count program to calculate cost\n# Use shirt cost (S = 6, M = 7, L = 8)\n# Calculate and report the subtotal of each size\n\n# Number of shirt purchased\nS = 0\nM = 0\nL = 0\nshirt_count = 0\nmax_shirt = 8\n\n# Cost of each shirt\nS_cost = 6\nM_cost = 7\nL_cost = 8\nshirts_cost = 0\n\n# Loop tallying shirts using small, medium or large sizes or use \"Exit\"\nwhile True:\n    choose_shirt = input(\"Shirt Prices: S = 6, M = 7 and L = 8. Choose your size: \")\n    if choose_shirt.upper().startswith(\"S\"):\n        S += 1\n    elif choose_shirt.upper().startswith(\"M\"):\n        M += 1\n    elif choose_shirt.upper().startswith(\"L\"):\n        L += 1\n    elif choose_shirt.upper().startswith(\"E\"):\n        print()\n        break\n    else:\n        print(\"Invalid Entry\")\n    shirt_count += 1\n    if shirt_count >= max_shirt:\n        print(\"We run out of shirts!\")\n        break\n    if choose_shirt.upper().startswith(\"S\"):\n        shirts_cost += S_cost\n    elif choose_shirt.upper().startswith(\"M\"):\n        shirts_cost += M_cost\n    elif choose_shirt.upper().startswith(\"L\"):\n        shirts_cost += L_cost\n    else:\n        print(\"Invalid Entry\")\n        break\n    \n        \n        \nprint(shirt_count,\"Total shirts.\",\"Small =\",S,\"Medium =\",M,\"Large =\",L)\nprint(\"Small Shirts:\",S,\"Sub Total: $\",S*S_cost,\"\\n\"\"Medium Shirts:\",M,\"Sub Total: $\",M*M_cost,\"\\n\"\"Large Shirts:\",L,\"Sub Total: $\",L*L_cost,\"\\n\"\"Total: $\",S*S_cost + M*M_cost + L*L_cost)\n        \n    ",
      "execution_count": 15,
      "outputs": [
        {
          "output_type": "stream",
          "name": "stdout",
          "text": "Shirt Prices: S = 6, M = 7 and L = 8. Choose your size: M\nShirt Prices: S = 6, M = 7 and L = 8. Choose your size: s\nShirt Prices: S = 6, M = 7 and L = 8. Choose your size: m\nShirt Prices: S = 6, M = 7 and L = 8. Choose your size: l\nShirt Prices: S = 6, M = 7 and L = 8. Choose your size: L\nShirt Prices: S = 6, M = 7 and L = 8. Choose your size: M\nShirt Prices: S = 6, M = 7 and L = 8. Choose your size: S\nShirt Prices: S = 6, M = 7 and L = 8. Choose your size: S\nWe run out of shirts!\n8 Total shirts. Small = 3 Medium = 3 Large = 2\nSmall Shirts: 3 Sub Total: $ 18 \nMedium Shirts: 3 Sub Total: $ 21 \nLarge Shirts: 2 Sub Total: $ 16 \nTotal: $ 55\n"
        }
      ]
    },
    {
      "metadata": {
        "trusted": true
      },
      "cell_type": "code",
      "source": "",
      "execution_count": null,
      "outputs": []
    }
  ],
  "metadata": {
    "kernelspec": {
      "name": "python3",
      "display_name": "Python 3",
      "language": "python"
    },
    "language_info": {
      "mimetype": "text/x-python",
      "nbconvert_exporter": "python",
      "name": "python",
      "file_extension": ".py",
      "version": "3.5.4",
      "pygments_lexer": "ipython3",
      "codemirror_mode": {
        "version": 3,
        "name": "ipython"
      }
    }
  },
  "nbformat": 4,
  "nbformat_minor": 1
}
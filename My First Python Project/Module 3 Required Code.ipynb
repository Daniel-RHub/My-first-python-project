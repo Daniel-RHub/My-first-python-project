{
  "cells": [
    {
      "metadata": {},
      "cell_type": "markdown",
      "source": "# Required Coding Activity\n\n## Program: Cheese Order\n- Set values for maximum and minimum order variables\n- Set value for price variable\n- get order_amount input and cast to a number"
    },
    {
      "metadata": {
        "trusted": true
      },
      "cell_type": "code",
      "source": "parmesan = 21.11\npecorino = 14.53\nparmigiano = 27.54\nmacaroni = 8.62\nmax_value = float(input(\"Today's maximum stock is: \"))\nmin_value = float(input(\"Today's minimum order is: \"))\ncheese_type = input(\"I would like: \")\nunit_price = cheese_type * amount\namount = float(input(\"I would like \"))",
      "execution_count": null,
      "outputs": []
    },
    {
      "metadata": {
        "trusted": true
      },
      "cell_type": "code",
      "source": "def order_amount(max_value,min_value,amount,unit_price,cheese_type):\n    print(\"Enter cheese type and order weight: \")\n    max_value = int(input(\"Today's maximum stock is: \"))\n    min_value = int(input(\"Today's minimum order is: \"))\n    cheese_type = input(\"I would like: \")\n    unit_price = cheese_type * amount\n    amount = int(input(\"I would like \"))\n    if amount >= max_value:\n        return \"More than currently available stock\"\n    elif amount <= min_value:\n        return \"Is below the minimum order\"\n    elif amount 0.5 < float(min_value) < 100:\n        return amount,\"costs $\",(float(unit_price) * amount))\n    else:\n        return \"Invalid input\"\n    \nprint(order_amount(max_value,min_value,amount,unit_price,cheese_type))\n",
      "execution_count": null,
      "outputs": []
    },
    {
      "metadata": {
        "trusted": true
      },
      "cell_type": "code",
      "source": "",
      "execution_count": null,
      "outputs": []
    }
  ],
  "metadata": {
    "kernelspec": {
      "name": "python3",
      "display_name": "Python 3",
      "language": "python"
    },
    "language_info": {
      "mimetype": "text/x-python",
      "nbconvert_exporter": "python",
      "name": "python",
      "file_extension": ".py",
      "version": "3.5.4",
      "pygments_lexer": "ipython3",
      "codemirror_mode": {
        "version": 3,
        "name": "ipython"
      }
    }
  },
  "nbformat": 4,
  "nbformat_minor": 1
}
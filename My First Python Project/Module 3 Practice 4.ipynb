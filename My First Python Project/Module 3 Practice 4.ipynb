{
  "cells": [
    {
      "metadata": {},
      "cell_type": "markdown",
      "source": "# Module 3 Practice - notebook 4\n\n## Students will be able to\n- Control code flow with if...else conditional logic"
    },
    {
      "metadata": {
        "trusted": true
      },
      "cell_type": "code",
      "source": "age_variable = input(\"What is your age? \")\nif int(age_variable) >= 12:\n    print(\"You will be\",int(age_variable)+10,\"in ten years.\")\nelse:\n    print(\"It is good to be\",int(age_variable))\n",
      "execution_count": 4,
      "outputs": [
        {
          "output_type": "stream",
          "name": "stdout",
          "text": "What is your age? 10\nIt is good to be 10\n"
        }
      ]
    },
    {
      "metadata": {
        "trusted": true
      },
      "cell_type": "code",
      "source": "hui_yeon = input(\"Please Magic Box, answer me this: Does Huiyeon Loves me? \")\nif hui_yeon.title() == \"Yes\":\n    print(\"Ha, I knew it!\")\nelif hui_yeon.title() == \"Not Sure\":\n    print(\"Ok, at least it's not a no.\")\nelif hui_yeon.title() == \"No\":\n    print(\"That's alright, I can still convince her.\")\nelif hui_yeon == \"Never\":\n    print(\"What! ):\")\nelse:\n    print(\"I'm sorry, my responses are limited.\")",
      "execution_count": 6,
      "outputs": [
        {
          "output_type": "stream",
          "name": "stdout",
          "text": "Please Magic Box, answer me this: Does Huiyeon Loves me? blue\nI'm sorry, my responses are limited.\n"
        }
      ]
    },
    {
      "metadata": {
        "trusted": true
      },
      "cell_type": "code",
      "source": "number_1 = int(\"176\")",
      "execution_count": 27,
      "outputs": []
    },
    {
      "metadata": {
        "trusted": true
      },
      "cell_type": "code",
      "source": "number_1",
      "execution_count": 28,
      "outputs": [
        {
          "output_type": "execute_result",
          "execution_count": 28,
          "data": {
            "text/plain": "176"
          },
          "metadata": {}
        }
      ]
    },
    {
      "metadata": {
        "trusted": true
      },
      "cell_type": "code",
      "source": "higher_than = input(\"Is the number higher than 100? (True/False) \")\nif int(higher_than) > 100:\n    print(\"True\")\nelif int(higher_than) == 100:\n    print(\"Equal\")\nelse:\n    print(\"False\")",
      "execution_count": 33,
      "outputs": [
        {
          "output_type": "stream",
          "name": "stdout",
          "text": "Is the number higher than 100? (True/False) 100\nEqual\n"
        }
      ]
    },
    {
      "metadata": {
        "trusted": true
      },
      "cell_type": "code",
      "source": "letra = \"H\"\nintentos = int(\"5\")\nadivinar = input(\"Enter your guess: \")\n\nif letra == adivinar.upper():\n    print(\"You got it!\")\nelif letra > adivinar.upper():\n    print(\"You are wrong, go lower.\")\nelif letra < adivinar.upper():\n    print(\"You are wrong, go higher.\")\nelse:\n    print(\"Thats not a valid input.\")\n\n\n",
      "execution_count": 14,
      "outputs": [
        {
          "output_type": "stream",
          "name": "stdout",
          "text": "Enter your guess: h\nYou got it!\n"
        }
      ]
    },
    {
      "metadata": {
        "trusted": true
      },
      "cell_type": "code",
      "source": "tries = 5\ndef check_guess(guess,letter):\n    guess = input(\"Enter your guess: \")\n    if guess.upper() == letter:\n        True\n        return \"Correct!\"\n    elif guess.upper() < letter:\n        False\n        return \"Go lower!\"\n    elif guess.upper() > letter:\n        False\n        return \"Go higher!\"\n    else:\n        return \"Invalid input.\"\ncheck = check_guess(\"\",\"H\")\nprint(\"Answer:\",check)\n\ndef letter_guess(guess,letter,tries):\n    if check_guess == \"Correct\":\n        pass\n    else:\n        int(tries) -1\n\n\nif tries == 0:\n    print(\"GAME OVER!\")\nelse:\n    pass\n\nguess_tries = letter_guess(\"\",\"H\",5)\nprint(\"Try again\",guess_tries)\n    \n",
      "execution_count": 4,
      "outputs": [
        {
          "output_type": "stream",
          "name": "stdout",
          "text": "Enter your guess: e\nAnswer: Go lower!\nTry again None\n"
        }
      ]
    },
    {
      "metadata": {
        "trusted": true
      },
      "cell_type": "code",
      "source": "about_pet = input(\"Which pets are available?: \")\nif  about_pet.title() == \"Dog\":\n    print(\"Ah, dogs!\")\nelif about_pet.title() == \"Cat\":\n    print(\"Ah, cats!\")\nelif about_pet.title() == \"T-Rex\":\n    print(\"Fuck! T-Rex?\")\nelif about_pet.title() == \"Hamster\":\n    print(\"Bah, hamsters.\")\nelif about_pet.title() == \"Human\":\n    print(\"Interesting, what kind?\")\nelif about_pet.title() == \"Crocodile\":\n    print(\"Really, how big?\")\nelse:\n    print(\"We don't have those, for now.\")\n",
      "execution_count": 40,
      "outputs": [
        {
          "output_type": "stream",
          "name": "stdout",
          "text": "Which pets are available?: rat\nWe don't have those, for now.\n"
        }
      ]
    },
    {
      "metadata": {
        "trusted": true
      },
      "cell_type": "code",
      "source": "",
      "execution_count": null,
      "outputs": []
    },
    {
      "metadata": {
        "trusted": true
      },
      "cell_type": "code",
      "source": "",
      "execution_count": null,
      "outputs": []
    }
  ],
  "metadata": {
    "kernelspec": {
      "name": "python3",
      "display_name": "Python 3",
      "language": "python"
    },
    "language_info": {
      "mimetype": "text/x-python",
      "nbconvert_exporter": "python",
      "name": "python",
      "file_extension": ".py",
      "version": "3.5.4",
      "pygments_lexer": "ipython3",
      "codemirror_mode": {
        "version": 3,
        "name": "ipython"
      }
    }
  },
  "nbformat": 4,
  "nbformat_minor": 1
}
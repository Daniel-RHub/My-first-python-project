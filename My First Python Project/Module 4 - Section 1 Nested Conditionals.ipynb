{
  "cells": [
    {
      "metadata": {},
      "cell_type": "markdown",
      "source": "# Nested Conditionals"
    },
    {
      "metadata": {
        "trusted": true
      },
      "cell_type": "code",
      "source": "# Set number to 1, 2 or 3\n\nnumber = 1\n\nif number >= 2:\n    if number > 2:\n        print(\"Number is 3\")\n    else:\n        print(\"Number is 2\")\nelse:\n    print(\"Number is 1\")",
      "execution_count": 6,
      "outputs": [
        {
          "output_type": "stream",
          "text": "Number is 1\n",
          "name": "stdout"
        }
      ]
    },
    {
      "metadata": {},
      "cell_type": "markdown",
      "source": "## Example"
    },
    {
      "metadata": {
        "trusted": true
      },
      "cell_type": "code",
      "source": "# Simplified example\n# [ ] review the code, then run and following the flowchart paths\n# **TIP** click in input box before typing \n\nsandwich_type = input('\"C\" for Cheese or \"V\" for Veggie Special: ')\n\nif sandwich_type.upper()  == \"C\":\n    # Seleect cheese type\n    cheese_type = input('\"C\" for Cheddar or \"M for Manchego: \"')\n    \n    if cheese_type.upper() == \"C\":\n        print(\"Here is your Cheddar Cheese sandwich\")\n    else:\n        print(\"Here is your Manchego Cheese sandwich\")\nelse:\n    print(\"Here is your Veggie Special\")",
      "execution_count": 9,
      "outputs": [
        {
          "output_type": "stream",
          "name": "stdout",
          "text": "\"C\" for Cheese or \"V\" for Veggie Special: c\n\"C\" for Cheddar or \"M for Manchego: \"c\nHere is your Cheddar Cheese sandwich\n"
        }
      ]
    },
    {
      "metadata": {
        "trusted": true
      },
      "cell_type": "code",
      "source": "# Full Example: handling some invalid input and elif statement\n# [ ] revie the code, then run following the flowchart paths including **invalid responses** like \"xyz123\"\n\nprint(\"Hi, welcome to the sandwich shop. Please select a sandwich.\")\nselect_sandwich = input('\"P\" for pork or \"E\" for egg: ')\nprint()\nif select_sandwich.upper() == \"E\":\n    # select sandwich type\n    print(\"Please select an ingredient\")\n    sandwich_ingredient = input('Select \"A\" for Avocado Egg or \"B\" for Bacon Egg sandwich:')\n    print()\n    if sandwich_ingredient.upper() == \"A\":\n        print(\"Here is your Avocado Egg sandwich. Thank you!\")\n    elif sandwich_ingredient.upper() == \"B\":\n        print(\"Here is your Bacon Egg sandwich. Thank you!\")\n    else:\n        print(\"Sorry, we don't have\",sandwich_ingredient,\"choice today.\")\nelif select_sandwich.upper() == \"P\":\n    print(\"Here is your Pork Special sandwich. Thank you!\")\nelse:\n    print(\"Sorry, we don't have\",sandwich_ingredient,\"choice today.\")\nprint()\nprint(\"C ya later!\")\n    ",
      "execution_count": 14,
      "outputs": [
        {
          "output_type": "stream",
          "text": "Hi, welcome to the sandwich shop. Please select a sandwich.\n\"P\" for pork or \"E\" for egg: E\n\nPlease select an ingredient\nSelect \"A\" for Avocado Egg or \"B\" for Bacon Egg sandwich:A\n\nHere is your Avocado Egg sandwich. Thank you!\n\nC ya later!\n",
          "name": "stdout"
        }
      ]
    },
    {
      "metadata": {},
      "cell_type": "markdown",
      "source": "# Task 1\n\n## Say \"Hello\""
    },
    {
      "metadata": {
        "trusted": true
      },
      "cell_type": "code",
      "source": "print('Say \"Hello\"?')\nsay_hello = input('Do you want to say \"Hello\"? (Yes or No) ')\nprint()\nif say_hello.title() == \"Yes\":\n    print('Would you like to say full \"Hello\" ')\n    full_hello = input(\"(Yes or No) \")\n    if full_hello.title() == \"Yes\":\n        print()\n        print(\"Hello\")\n    else:\n        print()\n        print(\"Hi\")\nelse:\n    print(\"Fucking Asshole!\")\n    ",
      "execution_count": 8,
      "outputs": [
        {
          "output_type": "stream",
          "text": "Say \"Hello\"?\nDo you want to say \"Hello\"? (Yes or No) yes\n\nWould you like to say full \"Hello\" \n(Yes or No) yes\n\nHello\n",
          "name": "stdout"
        }
      ]
    },
    {
      "metadata": {
        "trusted": true
      },
      "cell_type": "markdown",
      "source": "# Task 2\n\n## Testing for False\n\n## Guess the Bird"
    },
    {
      "metadata": {
        "trusted": true
      },
      "cell_type": "code",
      "source": "print(\"Guess the bird: \")\nbird_name = \"Parrot, Owl, Penguin, Toucan\"\nbird_guess = input(\"Guess the bird type: \")\nif bird_guess.title() in bird_name == False:\n    bird_guess2 = input(\"Second try, guess bird type: \")\n    if bird_guess2.title() in bird_name == False:\n        bird_guess3 = input(\"Third and last try,guess bird type: \")\n        if bird_guess3.title() in bird_name == False:\n            print(\"Sorry, out of tries.\")\n        else:\n            print(\"Yay! Third attempt.\")\n    else:\n        print(\"Yeah! Second attempt.\")\nelse:\n    print(\"Congratulations! You got it on your first try!\")\n",
      "execution_count": 36,
      "outputs": [
        {
          "output_type": "stream",
          "text": "Guess the bird: \nGuess the bird type: asd\nCongratulations! You got it on your first try!\n",
          "name": "stdout"
        }
      ]
    },
    {
      "metadata": {
        "trusted": true
      },
      "cell_type": "code",
      "source": "# [ ] Create the \"Guess the bird\" program (Stuck with this code kindly correct it)\nbirds = (\"parrot, sparrow, crow, peacock,cuckoo\")\nbird_guess_1=input(\"Guess the name of bird: \")\nif bird_guess_1 in birds == False:\n    bird_guess_2=input(\"Guess the name of bird(2nd attempt): \")\n    if bird_guess_2 in birds == False:\n        bird_guess_3=input(\"Guess the name of bird(3rd attempt): \")\n        if bird_guess_3 in birds == False:\n            print(\"Sorry ! Out of Try\")\n        else:\n            print(\"Yes! 3rd Try\")\n    else:\n        print(\"Yes! 2nd Try\")\nelse:\n        print(\"Yes! 1st Try\")",
      "execution_count": 16,
      "outputs": [
        {
          "output_type": "stream",
          "name": "stdout",
          "text": "Guess the name of bird: crow\nYes! 1st Try\n"
        }
      ]
    },
    {
      "metadata": {
        "trusted": true
      },
      "cell_type": "code",
      "source": "x = 1\ny = -1\n\nif x < 0:\n    print(\"-\")\nelse:\n    if y >= 0:\n        print(\"+/+\")\n    else:\n        print(\"+/-\")",
      "execution_count": 31,
      "outputs": [
        {
          "output_type": "stream",
          "text": "+/-\n",
          "name": "stdout"
        }
      ]
    },
    {
      "metadata": {
        "trusted": true
      },
      "cell_type": "code",
      "source": "if True:\n    if False:\n        print(\"Banana\")\n    else:\n        print(\"Apple\")\nelse:\n    if True:\n        print(\"Dates\")\n    else:\n        print(\"Corn\")",
      "execution_count": 34,
      "outputs": [
        {
          "output_type": "stream",
          "text": "Apple\n",
          "name": "stdout"
        }
      ]
    },
    {
      "metadata": {
        "trusted": true
      },
      "cell_type": "code",
      "source": "",
      "execution_count": null,
      "outputs": []
    }
  ],
  "metadata": {
    "kernelspec": {
      "name": "python3",
      "display_name": "Python 3",
      "language": "python"
    }
  },
  "nbformat": 4,
  "nbformat_minor": 1
}